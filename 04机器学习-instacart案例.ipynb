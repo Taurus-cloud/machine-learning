{
 "cells": [
  {
   "metadata": {
    "jupyter": {
     "is_executing": true
    },
    "ExecuteTime": {
     "start_time": "2024-09-23T14:28:47.273634Z"
    }
   },
   "cell_type": "code",
   "source": [
    "import pandas as pd\n",
    "#读取数据\n",
    "order_products=pd.read_csv(\"./instacart/order_products__prior.csv\")\n",
    "products=pd.read_csv(\"./instacart/products.csv\")\n",
    "orders=pd.read_csv(\"./instacart/orders.csv\")\n",
    "aisles=pd.read_csv(\"./instacart/aisles.csv\")\n",
    "#合并表格\n",
    "tab1=pd.merge(aisles,products,on=[\"aisle_id\",\"aisle_id\"])\n",
    "tab2=pd.merge(tab1,order_products,on=[\"product_id\",\"product_id\"])\n",
    "tab3=pd.merge(tab2,orders,on=[\"order_id\",\"order_id\"])\n",
    "tab3.head()\n",
    "#交叉表 找到user_id和aisle之间的关系\n",
    "table=pd.crosstab(tab3[\"user_id\"],tab3[\"aisle\"])\n",
    "data=table\n",
    "#PCA降维\n",
    "from sklearn.decomposition import PCA\n",
    "transfer=PCA(n_components=0.95)\n",
    "data_new=transfer.fit_transform(data)\n",
    "data_new.shape"
   ],
   "id": "5db9ec7e7b1959ea",
   "outputs": [],
   "execution_count": null
  }
 ],
 "metadata": {
  "kernelspec": {
   "display_name": "Python 3",
   "language": "python",
   "name": "python3"
  },
  "language_info": {
   "codemirror_mode": {
    "name": "ipython",
    "version": 2
   },
   "file_extension": ".py",
   "mimetype": "text/x-python",
   "name": "python",
   "nbconvert_exporter": "python",
   "pygments_lexer": "ipython2",
   "version": "2.7.6"
  }
 },
 "nbformat": 4,
 "nbformat_minor": 5
}
