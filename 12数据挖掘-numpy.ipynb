{
 "cells": [
  {
   "cell_type": "code",
   "metadata": {
    "ExecuteTime": {
     "end_time": "2024-10-15T16:28:30.069013Z",
     "start_time": "2024-10-15T16:28:30.065341Z"
    }
   },
   "source": [
    "import numpy as np"
   ],
   "outputs": [],
   "execution_count": 624
  },
  {
   "cell_type": "code",
   "metadata": {
    "ExecuteTime": {
     "end_time": "2024-10-15T16:28:30.083275Z",
     "start_time": "2024-10-15T16:28:30.078985Z"
    }
   },
   "source": [
    "score = np.array([[80, 89, 86, 67, 79],\n",
    "[78, 97, 89, 67, 81],\n",
    "[90, 94, 78, 67, 74],\n",
    "[91, 91, 90, 67, 69],\n",
    "[76, 87, 75, 67, 86],\n",
    "[70, 79, 84, 67, 84],\n",
    "[94, 92, 93, 67, 64],\n",
    "[86, 85, 83, 67, 80]])"
   ],
   "outputs": [],
   "execution_count": 625
  },
  {
   "cell_type": "code",
   "metadata": {
    "ExecuteTime": {
     "end_time": "2024-10-15T16:28:30.139388Z",
     "start_time": "2024-10-15T16:28:30.134252Z"
    }
   },
   "source": [
    "score"
   ],
   "outputs": [
    {
     "data": {
      "text/plain": [
       "array([[80, 89, 86, 67, 79],\n",
       "       [78, 97, 89, 67, 81],\n",
       "       [90, 94, 78, 67, 74],\n",
       "       [91, 91, 90, 67, 69],\n",
       "       [76, 87, 75, 67, 86],\n",
       "       [70, 79, 84, 67, 84],\n",
       "       [94, 92, 93, 67, 64],\n",
       "       [86, 85, 83, 67, 80]])"
      ]
     },
     "execution_count": 626,
     "metadata": {},
     "output_type": "execute_result"
    }
   ],
   "execution_count": 626
  },
  {
   "cell_type": "code",
   "metadata": {
    "ExecuteTime": {
     "end_time": "2024-10-15T16:28:30.229411Z",
     "start_time": "2024-10-15T16:28:30.225113Z"
    }
   },
   "source": [
    "type(score)"
   ],
   "outputs": [
    {
     "data": {
      "text/plain": [
       "numpy.ndarray"
      ]
     },
     "execution_count": 627,
     "metadata": {},
     "output_type": "execute_result"
    }
   ],
   "execution_count": 627
  },
  {
   "cell_type": "markdown",
   "metadata": {},
   "source": [
    "### 3.1.3 ndarray与Python原生list运算效率对比"
   ]
  },
  {
   "cell_type": "code",
   "metadata": {
    "ExecuteTime": {
     "end_time": "2024-10-15T16:28:30.525831Z",
     "start_time": "2024-10-15T16:28:30.522973Z"
    }
   },
   "source": [
    "import random\n",
    "import time"
   ],
   "outputs": [],
   "execution_count": 628
  },
  {
   "cell_type": "code",
   "metadata": {
    "ExecuteTime": {
     "end_time": "2024-10-15T16:28:42.898620Z",
     "start_time": "2024-10-15T16:28:30.746166Z"
    }
   },
   "source": [
    "# 生成一个大数组\n",
    "python_list = []\n",
    "\n",
    "for i in range(100000000):\n",
    "    python_list.append(random.random())"
   ],
   "outputs": [],
   "execution_count": 629
  },
  {
   "cell_type": "code",
   "metadata": {
    "ExecuteTime": {
     "end_time": "2024-10-15T16:28:47.464209Z",
     "start_time": "2024-10-15T16:28:42.912177Z"
    }
   },
   "source": [
    "ndarray_list = np.array(python_list)"
   ],
   "outputs": [],
   "execution_count": 630
  },
  {
   "cell_type": "code",
   "metadata": {
    "ExecuteTime": {
     "end_time": "2024-10-15T16:28:47.499935Z",
     "start_time": "2024-10-15T16:28:47.496123Z"
    }
   },
   "source": [
    "len(ndarray_list)"
   ],
   "outputs": [
    {
     "data": {
      "text/plain": [
       "100000000"
      ]
     },
     "execution_count": 631,
     "metadata": {},
     "output_type": "execute_result"
    }
   ],
   "execution_count": 631
  },
  {
   "cell_type": "code",
   "metadata": {
    "ExecuteTime": {
     "end_time": "2024-10-15T16:28:48.367192Z",
     "start_time": "2024-10-15T16:28:47.551462Z"
    }
   },
   "source": [
    "# 原生pythonlist求和\n",
    "t1 = time.time()\n",
    "a = sum(python_list)\n",
    "t2 = time.time()\n",
    "d1 = t2 - t1\n",
    "\n",
    "# ndarray求和\n",
    "t3 = time.time()\n",
    "b = np.sum(ndarray_list)\n",
    "t4 = time.time()\n",
    "d2 = t4 - t3"
   ],
   "outputs": [],
   "execution_count": 632
  },
  {
   "cell_type": "code",
   "metadata": {
    "ExecuteTime": {
     "end_time": "2024-10-15T16:28:48.400862Z",
     "start_time": "2024-10-15T16:28:48.396362Z"
    }
   },
   "source": [
    "d1"
   ],
   "outputs": [
    {
     "data": {
      "text/plain": [
       "0.7028403282165527"
      ]
     },
     "execution_count": 633,
     "metadata": {},
     "output_type": "execute_result"
    }
   ],
   "execution_count": 633
  },
  {
   "cell_type": "code",
   "metadata": {
    "ExecuteTime": {
     "end_time": "2024-10-15T16:28:48.490011Z",
     "start_time": "2024-10-15T16:28:48.485332Z"
    }
   },
   "source": [
    "d2"
   ],
   "outputs": [
    {
     "data": {
      "text/plain": [
       "0.10822033882141113"
      ]
     },
     "execution_count": 634,
     "metadata": {},
     "output_type": "execute_result"
    }
   ],
   "execution_count": 634
  },
  {
   "cell_type": "markdown",
   "metadata": {},
   "source": [
    "### 3.2.1 ndarray的属性"
   ]
  },
  {
   "cell_type": "code",
   "metadata": {
    "ExecuteTime": {
     "end_time": "2024-10-15T16:28:48.650325Z",
     "start_time": "2024-10-15T16:28:48.645703Z"
    }
   },
   "source": [
    "score"
   ],
   "outputs": [
    {
     "data": {
      "text/plain": [
       "array([[80, 89, 86, 67, 79],\n",
       "       [78, 97, 89, 67, 81],\n",
       "       [90, 94, 78, 67, 74],\n",
       "       [91, 91, 90, 67, 69],\n",
       "       [76, 87, 75, 67, 86],\n",
       "       [70, 79, 84, 67, 84],\n",
       "       [94, 92, 93, 67, 64],\n",
       "       [86, 85, 83, 67, 80]])"
      ]
     },
     "execution_count": 635,
     "metadata": {},
     "output_type": "execute_result"
    }
   ],
   "execution_count": 635
  },
  {
   "cell_type": "code",
   "metadata": {
    "ExecuteTime": {
     "end_time": "2024-10-15T16:28:49.771237Z",
     "start_time": "2024-10-15T16:28:49.765733Z"
    }
   },
   "source": [
    "score.shape # (8, 5)"
   ],
   "outputs": [
    {
     "data": {
      "text/plain": [
       "(8, 5)"
      ]
     },
     "execution_count": 636,
     "metadata": {},
     "output_type": "execute_result"
    }
   ],
   "execution_count": 636
  },
  {
   "cell_type": "code",
   "metadata": {
    "ExecuteTime": {
     "end_time": "2024-10-15T16:28:49.872226Z",
     "start_time": "2024-10-15T16:28:49.866520Z"
    }
   },
   "source": [
    "score.ndim"
   ],
   "outputs": [
    {
     "data": {
      "text/plain": [
       "2"
      ]
     },
     "execution_count": 637,
     "metadata": {},
     "output_type": "execute_result"
    }
   ],
   "execution_count": 637
  },
  {
   "cell_type": "code",
   "metadata": {
    "ExecuteTime": {
     "end_time": "2024-10-15T16:28:50.290645Z",
     "start_time": "2024-10-15T16:28:50.285122Z"
    }
   },
   "source": [
    "score.size"
   ],
   "outputs": [
    {
     "data": {
      "text/plain": [
       "40"
      ]
     },
     "execution_count": 638,
     "metadata": {},
     "output_type": "execute_result"
    }
   ],
   "execution_count": 638
  },
  {
   "cell_type": "code",
   "metadata": {
    "ExecuteTime": {
     "end_time": "2024-10-15T16:28:50.530750Z",
     "start_time": "2024-10-15T16:28:50.526287Z"
    }
   },
   "source": [
    "score.dtype "
   ],
   "outputs": [
    {
     "data": {
      "text/plain": [
       "dtype('int64')"
      ]
     },
     "execution_count": 639,
     "metadata": {},
     "output_type": "execute_result"
    }
   ],
   "execution_count": 639
  },
  {
   "cell_type": "code",
   "metadata": {
    "ExecuteTime": {
     "end_time": "2024-10-15T16:28:50.680526Z",
     "start_time": "2024-10-15T16:28:50.676587Z"
    }
   },
   "source": [
    "score.itemsize"
   ],
   "outputs": [
    {
     "data": {
      "text/plain": [
       "8"
      ]
     },
     "execution_count": 640,
     "metadata": {},
     "output_type": "execute_result"
    }
   ],
   "execution_count": 640
  },
  {
   "cell_type": "markdown",
   "metadata": {},
   "source": [
    "### 3.2.2 ndarray的形状"
   ]
  },
  {
   "cell_type": "code",
   "metadata": {
    "ExecuteTime": {
     "end_time": "2024-10-15T16:28:50.815581Z",
     "start_time": "2024-10-15T16:28:50.812800Z"
    }
   },
   "source": [
    "a = np.array([[1,2,3],[4,5,6]])\n",
    "b = np.array([1,2,3,4])\n",
    "c = np.array([[[1,2,3],[4,5,6]],[[1,2,3],[4,5,6]]])"
   ],
   "outputs": [],
   "execution_count": 641
  },
  {
   "cell_type": "code",
   "metadata": {
    "ExecuteTime": {
     "end_time": "2024-10-15T16:28:50.958632Z",
     "start_time": "2024-10-15T16:28:50.953769Z"
    }
   },
   "source": [
    "a # (2, 3)"
   ],
   "outputs": [
    {
     "data": {
      "text/plain": [
       "array([[1, 2, 3],\n",
       "       [4, 5, 6]])"
      ]
     },
     "execution_count": 642,
     "metadata": {},
     "output_type": "execute_result"
    }
   ],
   "execution_count": 642
  },
  {
   "cell_type": "code",
   "metadata": {
    "ExecuteTime": {
     "end_time": "2024-10-15T16:28:51.059417Z",
     "start_time": "2024-10-15T16:28:51.054431Z"
    }
   },
   "source": [
    "b # (4,)"
   ],
   "outputs": [
    {
     "data": {
      "text/plain": [
       "array([1, 2, 3, 4])"
      ]
     },
     "execution_count": 643,
     "metadata": {},
     "output_type": "execute_result"
    }
   ],
   "execution_count": 643
  },
  {
   "cell_type": "code",
   "metadata": {
    "ExecuteTime": {
     "end_time": "2024-10-15T16:28:51.331759Z",
     "start_time": "2024-10-15T16:28:51.328011Z"
    }
   },
   "source": [
    "c # (2, 2, 3)"
   ],
   "outputs": [
    {
     "data": {
      "text/plain": [
       "array([[[1, 2, 3],\n",
       "        [4, 5, 6]],\n",
       "\n",
       "       [[1, 2, 3],\n",
       "        [4, 5, 6]]])"
      ]
     },
     "execution_count": 644,
     "metadata": {},
     "output_type": "execute_result"
    }
   ],
   "execution_count": 644
  },
  {
   "cell_type": "code",
   "metadata": {
    "ExecuteTime": {
     "end_time": "2024-10-15T16:28:51.619456Z",
     "start_time": "2024-10-15T16:28:51.614917Z"
    }
   },
   "source": [
    "a.shape"
   ],
   "outputs": [
    {
     "data": {
      "text/plain": [
       "(2, 3)"
      ]
     },
     "execution_count": 645,
     "metadata": {},
     "output_type": "execute_result"
    }
   ],
   "execution_count": 645
  },
  {
   "cell_type": "code",
   "metadata": {
    "ExecuteTime": {
     "end_time": "2024-10-15T16:28:51.848648Z",
     "start_time": "2024-10-15T16:28:51.844303Z"
    }
   },
   "source": [
    "b.shape"
   ],
   "outputs": [
    {
     "data": {
      "text/plain": [
       "(4,)"
      ]
     },
     "execution_count": 646,
     "metadata": {},
     "output_type": "execute_result"
    }
   ],
   "execution_count": 646
  },
  {
   "cell_type": "code",
   "metadata": {
    "ExecuteTime": {
     "end_time": "2024-10-15T16:28:51.987623Z",
     "start_time": "2024-10-15T16:28:51.983336Z"
    }
   },
   "source": [
    "c.shape"
   ],
   "outputs": [
    {
     "data": {
      "text/plain": [
       "(2, 2, 3)"
      ]
     },
     "execution_count": 647,
     "metadata": {},
     "output_type": "execute_result"
    }
   ],
   "execution_count": 647
  },
  {
   "cell_type": "markdown",
   "metadata": {},
   "source": [
    "### 3.2.3 ndarray的类型"
   ]
  },
  {
   "cell_type": "code",
   "metadata": {
    "ExecuteTime": {
     "end_time": "2024-10-15T16:28:52.109771Z",
     "start_time": "2024-10-15T16:28:52.105782Z"
    }
   },
   "source": [
    "data = np.array([1.1, 2.2, 3.3])"
   ],
   "outputs": [],
   "execution_count": 648
  },
  {
   "cell_type": "code",
   "metadata": {
    "ExecuteTime": {
     "end_time": "2024-10-15T16:28:52.260475Z",
     "start_time": "2024-10-15T16:28:52.255565Z"
    }
   },
   "source": [
    "data"
   ],
   "outputs": [
    {
     "data": {
      "text/plain": [
       "array([1.1, 2.2, 3.3])"
      ]
     },
     "execution_count": 649,
     "metadata": {},
     "output_type": "execute_result"
    }
   ],
   "execution_count": 649
  },
  {
   "cell_type": "code",
   "metadata": {
    "ExecuteTime": {
     "end_time": "2024-10-15T16:28:52.341556Z",
     "start_time": "2024-10-15T16:28:52.337269Z"
    }
   },
   "source": [
    "data.dtype"
   ],
   "outputs": [
    {
     "data": {
      "text/plain": [
       "dtype('float64')"
      ]
     },
     "execution_count": 650,
     "metadata": {},
     "output_type": "execute_result"
    }
   ],
   "execution_count": 650
  },
  {
   "cell_type": "code",
   "metadata": {
    "ExecuteTime": {
     "end_time": "2024-10-15T16:28:52.475128Z",
     "start_time": "2024-10-15T16:28:52.470841Z"
    }
   },
   "source": [
    "# 创建数组的时候指定类型\n",
    "np.array([1.1, 2.2, 3.3], dtype=\"float32\")"
   ],
   "outputs": [
    {
     "data": {
      "text/plain": [
       "array([1.1, 2.2, 3.3], dtype=float32)"
      ]
     },
     "execution_count": 651,
     "metadata": {},
     "output_type": "execute_result"
    }
   ],
   "execution_count": 651
  },
  {
   "cell_type": "code",
   "metadata": {
    "ExecuteTime": {
     "end_time": "2024-10-15T16:28:52.603123Z",
     "start_time": "2024-10-15T16:28:52.598455Z"
    }
   },
   "source": [
    "np.array([1.1, 2.2, 3.3], dtype=np.float32)"
   ],
   "outputs": [
    {
     "data": {
      "text/plain": [
       "array([1.1, 2.2, 3.3], dtype=float32)"
      ]
     },
     "execution_count": 652,
     "metadata": {},
     "output_type": "execute_result"
    }
   ],
   "execution_count": 652
  },
  {
   "cell_type": "markdown",
   "metadata": {},
   "source": [
    "### 3.3.1 生成数组的方法"
   ]
  },
  {
   "cell_type": "code",
   "metadata": {
    "ExecuteTime": {
     "end_time": "2024-10-15T16:28:52.783971Z",
     "start_time": "2024-10-15T16:28:52.779483Z"
    }
   },
   "source": [
    "# 1 生成0和1的数组\n",
    "np.zeros(shape=(3, 4), dtype=\"float32\")"
   ],
   "outputs": [
    {
     "data": {
      "text/plain": [
       "array([[0., 0., 0., 0.],\n",
       "       [0., 0., 0., 0.],\n",
       "       [0., 0., 0., 0.]], dtype=float32)"
      ]
     },
     "execution_count": 653,
     "metadata": {},
     "output_type": "execute_result"
    }
   ],
   "execution_count": 653
  },
  {
   "cell_type": "code",
   "metadata": {
    "ExecuteTime": {
     "end_time": "2024-10-15T16:28:52.968661Z",
     "start_time": "2024-10-15T16:28:52.963825Z"
    }
   },
   "source": [
    "np.ones(shape=[2, 3], dtype=np.int32)"
   ],
   "outputs": [
    {
     "data": {
      "text/plain": [
       "array([[1, 1, 1],\n",
       "       [1, 1, 1]], dtype=int32)"
      ]
     },
     "execution_count": 654,
     "metadata": {},
     "output_type": "execute_result"
    }
   ],
   "execution_count": 654
  },
  {
   "cell_type": "markdown",
   "metadata": {},
   "source": [
    "### 2 从现有数组生成\n"
   ]
  },
  {
   "cell_type": "code",
   "metadata": {
    "ExecuteTime": {
     "end_time": "2024-10-15T16:28:53.694969Z",
     "start_time": "2024-10-15T16:28:53.689468Z"
    }
   },
   "source": [
    "score"
   ],
   "outputs": [
    {
     "data": {
      "text/plain": [
       "array([[80, 89, 86, 67, 79],\n",
       "       [78, 97, 89, 67, 81],\n",
       "       [90, 94, 78, 67, 74],\n",
       "       [91, 91, 90, 67, 69],\n",
       "       [76, 87, 75, 67, 86],\n",
       "       [70, 79, 84, 67, 84],\n",
       "       [94, 92, 93, 67, 64],\n",
       "       [86, 85, 83, 67, 80]])"
      ]
     },
     "execution_count": 655,
     "metadata": {},
     "output_type": "execute_result"
    }
   ],
   "execution_count": 655
  },
  {
   "cell_type": "code",
   "metadata": {
    "ExecuteTime": {
     "end_time": "2024-10-15T16:28:53.855796Z",
     "start_time": "2024-10-15T16:28:53.852016Z"
    }
   },
   "source": [
    "# np.array()\n",
    "data1 = np.array(score)"
   ],
   "outputs": [],
   "execution_count": 656
  },
  {
   "cell_type": "code",
   "metadata": {
    "ExecuteTime": {
     "end_time": "2024-10-15T16:28:54.107862Z",
     "start_time": "2024-10-15T16:28:54.102036Z"
    }
   },
   "source": [
    "data1"
   ],
   "outputs": [
    {
     "data": {
      "text/plain": [
       "array([[80, 89, 86, 67, 79],\n",
       "       [78, 97, 89, 67, 81],\n",
       "       [90, 94, 78, 67, 74],\n",
       "       [91, 91, 90, 67, 69],\n",
       "       [76, 87, 75, 67, 86],\n",
       "       [70, 79, 84, 67, 84],\n",
       "       [94, 92, 93, 67, 64],\n",
       "       [86, 85, 83, 67, 80]])"
      ]
     },
     "execution_count": 657,
     "metadata": {},
     "output_type": "execute_result"
    }
   ],
   "execution_count": 657
  },
  {
   "cell_type": "code",
   "metadata": {
    "ExecuteTime": {
     "end_time": "2024-10-15T16:28:54.422387Z",
     "start_time": "2024-10-15T16:28:54.416976Z"
    }
   },
   "source": [
    "# np.asarray()\n",
    "data2 = np.asarray(score)"
   ],
   "outputs": [],
   "execution_count": 658
  },
  {
   "cell_type": "code",
   "metadata": {
    "ExecuteTime": {
     "end_time": "2024-10-15T16:28:54.660579Z",
     "start_time": "2024-10-15T16:28:54.656414Z"
    }
   },
   "source": [
    "data2"
   ],
   "outputs": [
    {
     "data": {
      "text/plain": [
       "array([[80, 89, 86, 67, 79],\n",
       "       [78, 97, 89, 67, 81],\n",
       "       [90, 94, 78, 67, 74],\n",
       "       [91, 91, 90, 67, 69],\n",
       "       [76, 87, 75, 67, 86],\n",
       "       [70, 79, 84, 67, 84],\n",
       "       [94, 92, 93, 67, 64],\n",
       "       [86, 85, 83, 67, 80]])"
      ]
     },
     "execution_count": 659,
     "metadata": {},
     "output_type": "execute_result"
    }
   ],
   "execution_count": 659
  },
  {
   "cell_type": "code",
   "metadata": {
    "ExecuteTime": {
     "end_time": "2024-10-15T16:28:54.977697Z",
     "start_time": "2024-10-15T16:28:54.974354Z"
    }
   },
   "source": [
    "# np.copy()\n",
    "data3 = np.copy(score)"
   ],
   "outputs": [],
   "execution_count": 660
  },
  {
   "cell_type": "code",
   "metadata": {
    "ExecuteTime": {
     "end_time": "2024-10-15T16:28:55.147642Z",
     "start_time": "2024-10-15T16:28:55.143427Z"
    }
   },
   "source": [
    "data3"
   ],
   "outputs": [
    {
     "data": {
      "text/plain": [
       "array([[80, 89, 86, 67, 79],\n",
       "       [78, 97, 89, 67, 81],\n",
       "       [90, 94, 78, 67, 74],\n",
       "       [91, 91, 90, 67, 69],\n",
       "       [76, 87, 75, 67, 86],\n",
       "       [70, 79, 84, 67, 84],\n",
       "       [94, 92, 93, 67, 64],\n",
       "       [86, 85, 83, 67, 80]])"
      ]
     },
     "execution_count": 661,
     "metadata": {},
     "output_type": "execute_result"
    }
   ],
   "execution_count": 661
  },
  {
   "cell_type": "code",
   "metadata": {
    "ExecuteTime": {
     "end_time": "2024-10-15T16:28:55.513619Z",
     "start_time": "2024-10-15T16:28:55.509374Z"
    }
   },
   "source": [
    "score"
   ],
   "outputs": [
    {
     "data": {
      "text/plain": [
       "array([[80, 89, 86, 67, 79],\n",
       "       [78, 97, 89, 67, 81],\n",
       "       [90, 94, 78, 67, 74],\n",
       "       [91, 91, 90, 67, 69],\n",
       "       [76, 87, 75, 67, 86],\n",
       "       [70, 79, 84, 67, 84],\n",
       "       [94, 92, 93, 67, 64],\n",
       "       [86, 85, 83, 67, 80]])"
      ]
     },
     "execution_count": 662,
     "metadata": {},
     "output_type": "execute_result"
    }
   ],
   "execution_count": 662
  },
  {
   "cell_type": "code",
   "metadata": {
    "ExecuteTime": {
     "end_time": "2024-10-15T16:28:55.726426Z",
     "start_time": "2024-10-15T16:28:55.722422Z"
    }
   },
   "source": [
    "score[3, 1] = 10000"
   ],
   "outputs": [],
   "execution_count": 663
  },
  {
   "cell_type": "code",
   "metadata": {
    "ExecuteTime": {
     "end_time": "2024-10-15T16:28:56.085093Z",
     "start_time": "2024-10-15T16:28:56.080298Z"
    }
   },
   "source": [
    "score"
   ],
   "outputs": [
    {
     "data": {
      "text/plain": [
       "array([[   80,    89,    86,    67,    79],\n",
       "       [   78,    97,    89,    67,    81],\n",
       "       [   90,    94,    78,    67,    74],\n",
       "       [   91, 10000,    90,    67,    69],\n",
       "       [   76,    87,    75,    67,    86],\n",
       "       [   70,    79,    84,    67,    84],\n",
       "       [   94,    92,    93,    67,    64],\n",
       "       [   86,    85,    83,    67,    80]])"
      ]
     },
     "execution_count": 664,
     "metadata": {},
     "output_type": "execute_result"
    }
   ],
   "execution_count": 664
  },
  {
   "cell_type": "code",
   "metadata": {
    "ExecuteTime": {
     "end_time": "2024-10-15T16:28:56.394287Z",
     "start_time": "2024-10-15T16:28:56.388940Z"
    }
   },
   "source": [
    "data1"
   ],
   "outputs": [
    {
     "data": {
      "text/plain": [
       "array([[80, 89, 86, 67, 79],\n",
       "       [78, 97, 89, 67, 81],\n",
       "       [90, 94, 78, 67, 74],\n",
       "       [91, 91, 90, 67, 69],\n",
       "       [76, 87, 75, 67, 86],\n",
       "       [70, 79, 84, 67, 84],\n",
       "       [94, 92, 93, 67, 64],\n",
       "       [86, 85, 83, 67, 80]])"
      ]
     },
     "execution_count": 665,
     "metadata": {},
     "output_type": "execute_result"
    }
   ],
   "execution_count": 665
  },
  {
   "cell_type": "code",
   "metadata": {
    "ExecuteTime": {
     "end_time": "2024-10-15T16:28:56.669927Z",
     "start_time": "2024-10-15T16:28:56.665578Z"
    }
   },
   "source": [
    "data2"
   ],
   "outputs": [
    {
     "data": {
      "text/plain": [
       "array([[   80,    89,    86,    67,    79],\n",
       "       [   78,    97,    89,    67,    81],\n",
       "       [   90,    94,    78,    67,    74],\n",
       "       [   91, 10000,    90,    67,    69],\n",
       "       [   76,    87,    75,    67,    86],\n",
       "       [   70,    79,    84,    67,    84],\n",
       "       [   94,    92,    93,    67,    64],\n",
       "       [   86,    85,    83,    67,    80]])"
      ]
     },
     "execution_count": 666,
     "metadata": {},
     "output_type": "execute_result"
    }
   ],
   "execution_count": 666
  },
  {
   "cell_type": "code",
   "metadata": {
    "ExecuteTime": {
     "end_time": "2024-10-15T16:28:57.143945Z",
     "start_time": "2024-10-15T16:28:57.138698Z"
    }
   },
   "source": [
    "data3"
   ],
   "outputs": [
    {
     "data": {
      "text/plain": [
       "array([[80, 89, 86, 67, 79],\n",
       "       [78, 97, 89, 67, 81],\n",
       "       [90, 94, 78, 67, 74],\n",
       "       [91, 91, 90, 67, 69],\n",
       "       [76, 87, 75, 67, 86],\n",
       "       [70, 79, 84, 67, 84],\n",
       "       [94, 92, 93, 67, 64],\n",
       "       [86, 85, 83, 67, 80]])"
      ]
     },
     "execution_count": 667,
     "metadata": {},
     "output_type": "execute_result"
    }
   ],
   "execution_count": 667
  },
  {
   "cell_type": "markdown",
   "metadata": {},
   "source": [
    "### 3 生成固定范围的数组"
   ]
  },
  {
   "cell_type": "code",
   "metadata": {
    "ExecuteTime": {
     "end_time": "2024-10-15T16:28:57.492709Z",
     "start_time": "2024-10-15T16:28:57.488881Z"
    }
   },
   "source": [
    "np.linspace(0, 10, 5)"
   ],
   "outputs": [
    {
     "data": {
      "text/plain": [
       "array([ 0. ,  2.5,  5. ,  7.5, 10. ])"
      ]
     },
     "execution_count": 668,
     "metadata": {},
     "output_type": "execute_result"
    }
   ],
   "execution_count": 668
  },
  {
   "cell_type": "code",
   "metadata": {
    "ExecuteTime": {
     "end_time": "2024-10-15T16:28:57.830439Z",
     "start_time": "2024-10-15T16:28:57.826001Z"
    }
   },
   "source": [
    "np.arange(0, 11, 5)"
   ],
   "outputs": [
    {
     "data": {
      "text/plain": [
       "array([ 0,  5, 10])"
      ]
     },
     "execution_count": 669,
     "metadata": {},
     "output_type": "execute_result"
    }
   ],
   "execution_count": 669
  },
  {
   "cell_type": "markdown",
   "metadata": {},
   "source": [
    "### 4 生成随机数组"
   ]
  },
  {
   "cell_type": "code",
   "metadata": {
    "ExecuteTime": {
     "end_time": "2024-10-15T16:28:58.061400Z",
     "start_time": "2024-10-15T16:28:58.049162Z"
    }
   },
   "source": "data1 = np.random.uniform(low=-1, high=1, size=1000000)",
   "outputs": [],
   "execution_count": 670
  },
  {
   "cell_type": "code",
   "metadata": {
    "ExecuteTime": {
     "end_time": "2024-10-15T16:28:58.237998Z",
     "start_time": "2024-10-15T16:28:58.232575Z"
    }
   },
   "source": [
    "data1"
   ],
   "outputs": [
    {
     "data": {
      "text/plain": [
       "array([-0.69398312,  0.46130371,  0.96424741, ..., -0.63663082,\n",
       "       -0.90002843, -0.98446617])"
      ]
     },
     "execution_count": 671,
     "metadata": {},
     "output_type": "execute_result"
    }
   ],
   "execution_count": 671
  },
  {
   "cell_type": "code",
   "metadata": {
    "ExecuteTime": {
     "end_time": "2024-10-15T16:28:58.293556Z",
     "start_time": "2024-10-15T16:28:58.289979Z"
    }
   },
   "source": [
    "import matplotlib.pyplot as plt"
   ],
   "outputs": [],
   "execution_count": 672
  },
  {
   "cell_type": "code",
   "metadata": {
    "ExecuteTime": {
     "end_time": "2024-10-15T16:28:59.757174Z",
     "start_time": "2024-10-15T16:28:58.387010Z"
    }
   },
   "source": [
    "# 1、创建画布\n",
    "plt.figure(figsize=(20, 8), dpi=80)\n",
    "\n",
    "# 2、绘制直方图\n",
    "plt.hist(data1, 1000)\n",
    "\n",
    "# 3、显示图像\n",
    "plt.show()"
   ],
   "outputs": [
    {
     "data": {
      "text/plain": [
       "<Figure size 1600x640 with 1 Axes>"
      ],
      "image/png": "[encoded data removed]"
     },
     "metadata": {},
     "output_type": "display_data"
    }
   ],
   "execution_count": 673
  },
  {
   "cell_type": "code",
   "metadata": {
    "ExecuteTime": {
     "end_time": "2024-10-15T16:28:59.818435Z",
     "start_time": "2024-10-15T16:28:59.792275Z"
    }
   },
   "source": [
    "# 正态分布\n",
    "data2 = np.random.normal(loc=1.75, scale=0.1, size=1000000)"
   ],
   "outputs": [],
   "execution_count": 674
  },
  {
   "cell_type": "code",
   "metadata": {
    "ExecuteTime": {
     "end_time": "2024-10-15T16:28:59.876195Z",
     "start_time": "2024-10-15T16:28:59.870209Z"
    }
   },
   "source": [
    "data2"
   ],
   "outputs": [
    {
     "data": {
      "text/plain": [
       "array([1.54373151, 1.7780482 , 1.84887043, ..., 1.74612433, 1.77790261,\n",
       "       1.74790243])"
      ]
     },
     "execution_count": 675,
     "metadata": {},
     "output_type": "execute_result"
    }
   ],
   "execution_count": 675
  },
  {
   "cell_type": "code",
   "metadata": {
    "ExecuteTime": {
     "end_time": "2024-10-15T16:29:01.294632Z",
     "start_time": "2024-10-15T16:28:59.934062Z"
    }
   },
   "source": [
    "# 1、创建画布\n",
    "plt.figure(figsize=(20, 8), dpi=80)\n",
    "\n",
    "# 2、绘制直方图\n",
    "plt.hist(data2, 1000)\n",
    "\n",
    "# 3、显示图像\n",
    "plt.show()"
   ],
   "outputs": [
    {
     "data": {
      "text/plain": [
       "<Figure size 1600x640 with 1 Axes>"
      ],
      "image/png": "[encoded data removed]"
     },
     "metadata": {},
     "output_type": "display_data"
    }
   ],
   "execution_count": 676
  },
  {
   "cell_type": "markdown",
   "metadata": {},
   "source": [
    "### 案例：随机生成8只股票2周的交易日涨幅数据"
   ]
  },
  {
   "cell_type": "code",
   "metadata": {
    "ExecuteTime": {
     "end_time": "2024-10-15T16:29:01.332456Z",
     "start_time": "2024-10-15T16:29:01.329290Z"
    }
   },
   "source": [
    "stock_change = np.random.normal(loc=0, scale=1, size=(8, 10))"
   ],
   "outputs": [],
   "execution_count": 677
  },
  {
   "cell_type": "code",
   "metadata": {
    "ExecuteTime": {
     "end_time": "2024-10-15T16:29:01.433570Z",
     "start_time": "2024-10-15T16:29:01.428759Z"
    }
   },
   "source": [
    "stock_change"
   ],
   "outputs": [
    {
     "data": {
      "text/plain": [
       "array([[ 0.09659317, -0.30104816,  0.78433711, -1.15853138,  0.0076224 ,\n",
       "        -0.91437134,  0.39318176, -0.9255205 , -0.57214793, -0.483942  ],\n",
       "       [-0.2410366 ,  0.6397875 , -0.31219268,  0.4715081 ,  0.62357787,\n",
       "         0.09876682, -0.40143994, -0.96686563,  0.3462476 , -0.74981025],\n",
       "       [-1.02512666, -1.17072369, -1.39259337, -0.2952607 , -1.89724776,\n",
       "         1.69152587, -1.13816167, -1.78520381, -1.68071851, -0.55606737],\n",
       "       [ 0.08764752,  0.85618002, -0.16057845, -0.5860393 , -0.16459904,\n",
       "         0.37438094, -0.43999059, -1.20960802,  1.03302817,  1.04964063],\n",
       "       [-0.49450451, -0.13858273,  0.88474119,  1.40870878,  1.87586663,\n",
       "        -0.00968829,  0.50938394, -0.16855558,  0.67818617,  0.25855944],\n",
       "       [ 0.07199077,  2.54493628, -0.55604066,  0.09384186, -0.00558966,\n",
       "        -1.74821891,  0.42091045,  0.8456591 ,  1.10833311, -0.39297944],\n",
       "       [ 0.58765821,  0.96930852,  0.47439323,  1.15381302, -0.39772303,\n",
       "         0.99423928, -0.67425904,  0.45601599, -1.09489879, -0.61454111],\n",
       "       [-1.26514482,  0.43125261, -0.2475211 , -1.43274821,  0.52342217,\n",
       "         0.15360805,  0.62736015,  0.66311015, -0.60506616,  1.59454785]])"
      ]
     },
     "execution_count": 678,
     "metadata": {},
     "output_type": "execute_result"
    }
   ],
   "execution_count": 678
  },
  {
   "cell_type": "code",
   "metadata": {
    "ExecuteTime": {
     "end_time": "2024-10-15T16:29:01.501096Z",
     "start_time": "2024-10-15T16:29:01.495811Z"
    }
   },
   "source": [
    "# 获取第一个股票的前3个交易日的涨跌幅数据\n",
    "stock_change[0, :3]"
   ],
   "outputs": [
    {
     "data": {
      "text/plain": [
       "array([ 0.09659317, -0.30104816,  0.78433711])"
      ]
     },
     "execution_count": 679,
     "metadata": {},
     "output_type": "execute_result"
    }
   ],
   "execution_count": 679
  },
  {
   "cell_type": "code",
   "metadata": {
    "ExecuteTime": {
     "end_time": "2024-10-15T16:29:01.832113Z",
     "start_time": "2024-10-15T16:29:01.828288Z"
    }
   },
   "source": [
    "a1 = np.array([ [[1,2,3],[4,5,6]], [[12,3,34],[5,6,7]]])"
   ],
   "outputs": [],
   "execution_count": 680
  },
  {
   "cell_type": "code",
   "metadata": {
    "ExecuteTime": {
     "end_time": "2024-10-15T16:29:02.017965Z",
     "start_time": "2024-10-15T16:29:02.013668Z"
    }
   },
   "source": [
    "a1 # (2, 2, 3)"
   ],
   "outputs": [
    {
     "data": {
      "text/plain": [
       "array([[[ 1,  2,  3],\n",
       "        [ 4,  5,  6]],\n",
       "\n",
       "       [[12,  3, 34],\n",
       "        [ 5,  6,  7]]])"
      ]
     },
     "execution_count": 681,
     "metadata": {},
     "output_type": "execute_result"
    }
   ],
   "execution_count": 681
  },
  {
   "cell_type": "code",
   "metadata": {
    "ExecuteTime": {
     "end_time": "2024-10-15T16:29:02.110166Z",
     "start_time": "2024-10-15T16:29:02.106219Z"
    }
   },
   "source": [
    "a1.shape"
   ],
   "outputs": [
    {
     "data": {
      "text/plain": [
       "(2, 2, 3)"
      ]
     },
     "execution_count": 682,
     "metadata": {},
     "output_type": "execute_result"
    }
   ],
   "execution_count": 682
  },
  {
   "cell_type": "code",
   "metadata": {
    "ExecuteTime": {
     "end_time": "2024-10-15T16:29:02.282407Z",
     "start_time": "2024-10-15T16:29:02.279653Z"
    }
   },
   "source": [
    "a1[1, 0, 2] = 100000"
   ],
   "outputs": [],
   "execution_count": 683
  },
  {
   "cell_type": "code",
   "metadata": {
    "ExecuteTime": {
     "end_time": "2024-10-15T16:29:02.365064Z",
     "start_time": "2024-10-15T16:29:02.360078Z"
    }
   },
   "source": [
    "a1"
   ],
   "outputs": [
    {
     "data": {
      "text/plain": [
       "array([[[     1,      2,      3],\n",
       "        [     4,      5,      6]],\n",
       "\n",
       "       [[    12,      3, 100000],\n",
       "        [     5,      6,      7]]])"
      ]
     },
     "execution_count": 684,
     "metadata": {},
     "output_type": "execute_result"
    }
   ],
   "execution_count": 684
  },
  {
   "cell_type": "markdown",
   "metadata": {},
   "source": [
    "### 3.3.3 形状修改"
   ]
  },
  {
   "cell_type": "code",
   "metadata": {
    "ExecuteTime": {
     "end_time": "2024-10-15T16:29:02.487893Z",
     "start_time": "2024-10-15T16:29:02.483051Z"
    }
   },
   "source": [
    "# 需求：让刚才的股票行、日期列反过来，变成日期行，股票列\n",
    "stock_change"
   ],
   "outputs": [
    {
     "data": {
      "text/plain": [
       "array([[ 0.09659317, -0.30104816,  0.78433711, -1.15853138,  0.0076224 ,\n",
       "        -0.91437134,  0.39318176, -0.9255205 , -0.57214793, -0.483942  ],\n",
       "       [-0.2410366 ,  0.6397875 , -0.31219268,  0.4715081 ,  0.62357787,\n",
       "         0.09876682, -0.40143994, -0.96686563,  0.3462476 , -0.74981025],\n",
       "       [-1.02512666, -1.17072369, -1.39259337, -0.2952607 , -1.89724776,\n",
       "         1.69152587, -1.13816167, -1.78520381, -1.68071851, -0.55606737],\n",
       "       [ 0.08764752,  0.85618002, -0.16057845, -0.5860393 , -0.16459904,\n",
       "         0.37438094, -0.43999059, -1.20960802,  1.03302817,  1.04964063],\n",
       "       [-0.49450451, -0.13858273,  0.88474119,  1.40870878,  1.87586663,\n",
       "        -0.00968829,  0.50938394, -0.16855558,  0.67818617,  0.25855944],\n",
       "       [ 0.07199077,  2.54493628, -0.55604066,  0.09384186, -0.00558966,\n",
       "        -1.74821891,  0.42091045,  0.8456591 ,  1.10833311, -0.39297944],\n",
       "       [ 0.58765821,  0.96930852,  0.47439323,  1.15381302, -0.39772303,\n",
       "         0.99423928, -0.67425904,  0.45601599, -1.09489879, -0.61454111],\n",
       "       [-1.26514482,  0.43125261, -0.2475211 , -1.43274821,  0.52342217,\n",
       "         0.15360805,  0.62736015,  0.66311015, -0.60506616,  1.59454785]])"
      ]
     },
     "execution_count": 685,
     "metadata": {},
     "output_type": "execute_result"
    }
   ],
   "execution_count": 685
  },
  {
   "cell_type": "code",
   "metadata": {
    "ExecuteTime": {
     "end_time": "2024-10-15T16:29:02.631659Z",
     "start_time": "2024-10-15T16:29:02.626859Z"
    }
   },
   "source": [
    "stock_change.reshape((10, 8))"
   ],
   "outputs": [
    {
     "data": {
      "text/plain": [
       "array([[ 0.09659317, -0.30104816,  0.78433711, -1.15853138,  0.0076224 ,\n",
       "        -0.91437134,  0.39318176, -0.9255205 ],\n",
       "       [-0.57214793, -0.483942  , -0.2410366 ,  0.6397875 , -0.31219268,\n",
       "         0.4715081 ,  0.62357787,  0.09876682],\n",
       "       [-0.40143994, -0.96686563,  0.3462476 , -0.74981025, -1.02512666,\n",
       "        -1.17072369, -1.39259337, -0.2952607 ],\n",
       "       [-1.89724776,  1.69152587, -1.13816167, -1.78520381, -1.68071851,\n",
       "        -0.55606737,  0.08764752,  0.85618002],\n",
       "       [-0.16057845, -0.5860393 , -0.16459904,  0.37438094, -0.43999059,\n",
       "        -1.20960802,  1.03302817,  1.04964063],\n",
       "       [-0.49450451, -0.13858273,  0.88474119,  1.40870878,  1.87586663,\n",
       "        -0.00968829,  0.50938394, -0.16855558],\n",
       "       [ 0.67818617,  0.25855944,  0.07199077,  2.54493628, -0.55604066,\n",
       "         0.09384186, -0.00558966, -1.74821891],\n",
       "       [ 0.42091045,  0.8456591 ,  1.10833311, -0.39297944,  0.58765821,\n",
       "         0.96930852,  0.47439323,  1.15381302],\n",
       "       [-0.39772303,  0.99423928, -0.67425904,  0.45601599, -1.09489879,\n",
       "        -0.61454111, -1.26514482,  0.43125261],\n",
       "       [-0.2475211 , -1.43274821,  0.52342217,  0.15360805,  0.62736015,\n",
       "         0.66311015, -0.60506616,  1.59454785]])"
      ]
     },
     "execution_count": 686,
     "metadata": {},
     "output_type": "execute_result"
    }
   ],
   "execution_count": 686
  },
  {
   "cell_type": "code",
   "metadata": {
    "ExecuteTime": {
     "end_time": "2024-10-15T16:29:02.885487Z",
     "start_time": "2024-10-15T16:29:02.880499Z"
    }
   },
   "source": [
    "stock_change"
   ],
   "outputs": [
    {
     "data": {
      "text/plain": [
       "array([[ 0.09659317, -0.30104816,  0.78433711, -1.15853138,  0.0076224 ,\n",
       "        -0.91437134,  0.39318176, -0.9255205 , -0.57214793, -0.483942  ],\n",
       "       [-0.2410366 ,  0.6397875 , -0.31219268,  0.4715081 ,  0.62357787,\n",
       "         0.09876682, -0.40143994, -0.96686563,  0.3462476 , -0.74981025],\n",
       "       [-1.02512666, -1.17072369, -1.39259337, -0.2952607 , -1.89724776,\n",
       "         1.69152587, -1.13816167, -1.78520381, -1.68071851, -0.55606737],\n",
       "       [ 0.08764752,  0.85618002, -0.16057845, -0.5860393 , -0.16459904,\n",
       "         0.37438094, -0.43999059, -1.20960802,  1.03302817,  1.04964063],\n",
       "       [-0.49450451, -0.13858273,  0.88474119,  1.40870878,  1.87586663,\n",
       "        -0.00968829,  0.50938394, -0.16855558,  0.67818617,  0.25855944],\n",
       "       [ 0.07199077,  2.54493628, -0.55604066,  0.09384186, -0.00558966,\n",
       "        -1.74821891,  0.42091045,  0.8456591 ,  1.10833311, -0.39297944],\n",
       "       [ 0.58765821,  0.96930852,  0.47439323,  1.15381302, -0.39772303,\n",
       "         0.99423928, -0.67425904,  0.45601599, -1.09489879, -0.61454111],\n",
       "       [-1.26514482,  0.43125261, -0.2475211 , -1.43274821,  0.52342217,\n",
       "         0.15360805,  0.62736015,  0.66311015, -0.60506616,  1.59454785]])"
      ]
     },
     "execution_count": 687,
     "metadata": {},
     "output_type": "execute_result"
    }
   ],
   "execution_count": 687
  },
  {
   "cell_type": "code",
   "metadata": {
    "ExecuteTime": {
     "end_time": "2024-10-15T16:29:03.247367Z",
     "start_time": "2024-10-15T16:29:03.244398Z"
    }
   },
   "source": [
    "stock_change.resize((10, 8))"
   ],
   "outputs": [],
   "execution_count": 688
  },
  {
   "cell_type": "code",
   "metadata": {
    "ExecuteTime": {
     "end_time": "2024-10-15T16:29:03.543727Z",
     "start_time": "2024-10-15T16:29:03.539853Z"
    }
   },
   "source": [
    "stock_change.shape"
   ],
   "outputs": [
    {
     "data": {
      "text/plain": [
       "(10, 8)"
      ]
     },
     "execution_count": 689,
     "metadata": {},
     "output_type": "execute_result"
    }
   ],
   "execution_count": 689
  },
  {
   "cell_type": "code",
   "metadata": {
    "ExecuteTime": {
     "end_time": "2024-10-15T16:29:03.696537Z",
     "start_time": "2024-10-15T16:29:03.692531Z"
    }
   },
   "source": [
    "stock_change.resize((8, 10))"
   ],
   "outputs": [],
   "execution_count": 690
  },
  {
   "cell_type": "code",
   "metadata": {
    "ExecuteTime": {
     "end_time": "2024-10-15T16:29:03.875824Z",
     "start_time": "2024-10-15T16:29:03.870840Z"
    }
   },
   "source": [
    "stock_change"
   ],
   "outputs": [
    {
     "data": {
      "text/plain": [
       "array([[ 0.09659317, -0.30104816,  0.78433711, -1.15853138,  0.0076224 ,\n",
       "        -0.91437134,  0.39318176, -0.9255205 , -0.57214793, -0.483942  ],\n",
       "       [-0.2410366 ,  0.6397875 , -0.31219268,  0.4715081 ,  0.62357787,\n",
       "         0.09876682, -0.40143994, -0.96686563,  0.3462476 , -0.74981025],\n",
       "       [-1.02512666, -1.17072369, -1.39259337, -0.2952607 , -1.89724776,\n",
       "         1.69152587, -1.13816167, -1.78520381, -1.68071851, -0.55606737],\n",
       "       [ 0.08764752,  0.85618002, -0.16057845, -0.5860393 , -0.16459904,\n",
       "         0.37438094, -0.43999059, -1.20960802,  1.03302817,  1.04964063],\n",
       "       [-0.49450451, -0.13858273,  0.88474119,  1.40870878,  1.87586663,\n",
       "        -0.00968829,  0.50938394, -0.16855558,  0.67818617,  0.25855944],\n",
       "       [ 0.07199077,  2.54493628, -0.55604066,  0.09384186, -0.00558966,\n",
       "        -1.74821891,  0.42091045,  0.8456591 ,  1.10833311, -0.39297944],\n",
       "       [ 0.58765821,  0.96930852,  0.47439323,  1.15381302, -0.39772303,\n",
       "         0.99423928, -0.67425904,  0.45601599, -1.09489879, -0.61454111],\n",
       "       [-1.26514482,  0.43125261, -0.2475211 , -1.43274821,  0.52342217,\n",
       "         0.15360805,  0.62736015,  0.66311015, -0.60506616,  1.59454785]])"
      ]
     },
     "execution_count": 691,
     "metadata": {},
     "output_type": "execute_result"
    }
   ],
   "execution_count": 691
  },
  {
   "cell_type": "code",
   "metadata": {
    "ExecuteTime": {
     "end_time": "2024-10-15T16:29:04.015022Z",
     "start_time": "2024-10-15T16:29:04.009037Z"
    }
   },
   "source": [
    "stock_change.T"
   ],
   "outputs": [
    {
     "data": {
      "text/plain": [
       "array([[ 0.09659317, -0.2410366 , -1.02512666,  0.08764752, -0.49450451,\n",
       "         0.07199077,  0.58765821, -1.26514482],\n",
       "       [-0.30104816,  0.6397875 , -1.17072369,  0.85618002, -0.13858273,\n",
       "         2.54493628,  0.96930852,  0.43125261],\n",
       "       [ 0.78433711, -0.31219268, -1.39259337, -0.16057845,  0.88474119,\n",
       "        -0.55604066,  0.47439323, -0.2475211 ],\n",
       "       [-1.15853138,  0.4715081 , -0.2952607 , -0.5860393 ,  1.40870878,\n",
       "         0.09384186,  1.15381302, -1.43274821],\n",
       "       [ 0.0076224 ,  0.62357787, -1.89724776, -0.16459904,  1.87586663,\n",
       "        -0.00558966, -0.39772303,  0.52342217],\n",
       "       [-0.91437134,  0.09876682,  1.69152587,  0.37438094, -0.00968829,\n",
       "        -1.74821891,  0.99423928,  0.15360805],\n",
       "       [ 0.39318176, -0.40143994, -1.13816167, -0.43999059,  0.50938394,\n",
       "         0.42091045, -0.67425904,  0.62736015],\n",
       "       [-0.9255205 , -0.96686563, -1.78520381, -1.20960802, -0.16855558,\n",
       "         0.8456591 ,  0.45601599,  0.66311015],\n",
       "       [-0.57214793,  0.3462476 , -1.68071851,  1.03302817,  0.67818617,\n",
       "         1.10833311, -1.09489879, -0.60506616],\n",
       "       [-0.483942  , -0.74981025, -0.55606737,  1.04964063,  0.25855944,\n",
       "        -0.39297944, -0.61454111,  1.59454785]])"
      ]
     },
     "execution_count": 692,
     "metadata": {},
     "output_type": "execute_result"
    }
   ],
   "execution_count": 692
  },
  {
   "cell_type": "markdown",
   "metadata": {},
   "source": [
    "### 3.3.4 类型修改"
   ]
  },
  {
   "cell_type": "code",
   "metadata": {
    "ExecuteTime": {
     "end_time": "2024-10-15T16:29:04.203249Z",
     "start_time": "2024-10-15T16:29:04.198174Z"
    }
   },
   "source": [
    "stock_change.astype(\"int32\")"
   ],
   "outputs": [
    {
     "data": {
      "text/plain": [
       "array([[ 0,  0,  0, -1,  0,  0,  0,  0,  0,  0],\n",
       "       [ 0,  0,  0,  0,  0,  0,  0,  0,  0,  0],\n",
       "       [-1, -1, -1,  0, -1,  1, -1, -1, -1,  0],\n",
       "       [ 0,  0,  0,  0,  0,  0,  0, -1,  1,  1],\n",
       "       [ 0,  0,  0,  1,  1,  0,  0,  0,  0,  0],\n",
       "       [ 0,  2,  0,  0,  0, -1,  0,  0,  1,  0],\n",
       "       [ 0,  0,  0,  1,  0,  0,  0,  0, -1,  0],\n",
       "       [-1,  0,  0, -1,  0,  0,  0,  0,  0,  1]], dtype=int32)"
      ]
     },
     "execution_count": 693,
     "metadata": {},
     "output_type": "execute_result"
    }
   ],
   "execution_count": 693
  },
  {
   "cell_type": "code",
   "metadata": {
    "ExecuteTime": {
     "end_time": "2024-10-15T16:29:04.614991Z",
     "start_time": "2024-10-15T16:29:04.610800Z"
    }
   },
   "source": [
    "stock_change.tostring()"
   ],
   "outputs": [
    {
     "name": "stderr",
     "output_type": "stream",
     "text": [
      "C:\\Users\\Administrator\\AppData\\Local\\Temp\\ipykernel_16340\\2467773822.py:1: DeprecationWarning: tostring() is deprecated. Use tobytes() instead.\n",
      "  stock_change.tostring()\n"
     ]
    },
    {
     "data": {
      "text/plain": [
       "b'\\x8f\\x8f\\xcdwT\\xba\\xb8?\\xa3\\xee\\x96\\x84_D\\xd3\\xbf\\xe0\\x98\\xb4\"J\\x19\\xe9?U\\xe8\\x9a4X\\x89\\xf2\\xbf=A\\xa55\\xaa8\\x7f?jp\\xb6\\xac\\x87B\\xed\\xbfJM\\x16\\xd6\\xe3)\\xd9?\\xfe\\xfbZ)\\xdd\\x9d\\xed\\xbf\\x9d\\x1cM.\\tO\\xe2\\xbfN\\x80\\xc5\\xe1\\xe7\\xf8\\xde\\xbf\\xe0\\xbc\\xcc\\x91I\\xda\\xce\\xbf\\xb9\\xfb\\x00\\xa5#y\\xe4?\\x81\\xb6\\x9b\\xfe\\xf6\\xfa\\xd3\\xbf\\x1f\\xbbMS0-\\xde?Km\\xe8\\x93Y\\xf4\\xe3?\\xde5\\'V\\xc8H\\xb9?Y\\x0b\\xb0*1\\xb1\\xd9\\xbf\\xcc\\xc7$1\\x90\\xf0\\xee\\xbf\\x9a]\\xd9\\xb1\\xeb(\\xd6?\\x82\\x15\\xf7\\x10r\\xfe\\xe7\\xbf{\\x06Y6\\xebf\\xf0\\xbf\\xd5\\xd7U\\xc4H\\xbb\\xf2\\xbf\\x9b\\x9b\\x01\\xfd\\x0fH\\xf6\\xbf\\td\\x1c\\x1e\\x8d\\xe5\\xd2\\xbfP\\x82Ax [\\xfe\\xbfJ\\xf9un}\\x10\\xfb?\\xedO\\xf2\\x02\\xe95\\xf2\\xbfu\\xf8\\xd4\\xde1\\x90\\xfc\\xbf\\x89cw\\x179\\xe4\\xfa\\xbf\\xce`x\\xcbM\\xcb\\xe1\\xbf\\xa8\\xf6\\xd5k\\x11p\\xb6?\\xaa\\xe9\\xc4\\xa5\\xd3e\\xeb?\\xde\\xac]\\xaa\\xd5\\x8d\\xc4\\xbfA\\xad\\x05\\x80\\xd5\\xc0\\xe2\\xbf\\xc1\\xc3\\xd5\\xd1\\x94\\x11\\xc5\\xbf\\xe4{>~\\xdb\\xf5\\xd7?L\\x96\\x0cJ\\xce(\\xdc\\xbf\\x82f\\xa1\\xf0\\x8dZ\\xf3\\xbfU?\\xec\\x8bH\\x87\\xf0?\\x92\\xf7\\xc5\\xf8S\\xcb\\xf0?>>\\x15<\\xf6\\xa5\\xdf\\xbf{\\x05\\xc0/\\x14\\xbd\\xc1\\xbf\\xf1D\\xae\\xc2\\xccO\\xec?\\xbd\"\\x7f7\\x12\\x8a\\xf6?\\xa6\\x1c\\xe3\\xb9\\x8c\\x03\\xfe?\\x8f;\\xc0\\xb4t\\xd7\\x83\\xbf q5\\x8b\\xdfL\\xe0?\\xa5W\\xde\\xa5:\\x93\\xc5\\xbfx6\\x8ay\\xb3\\xb3\\xe5?\\xea\\xf6\\n\\xe3<\\x8c\\xd0?\\x95\\xdd_\\xb9\\xfcm\\xb2?\\xc0\\x90\\xcd\\x8d\\x07\\\\\\x04@\\x9d\\xaat\\xc8\\x15\\xcb\\xe1\\xbf4\\xe0r2\\x05\\x06\\xb8?\\x1b\\x89\\xa9y.\\xe5v\\xbf|\\xc1ie\\xb4\\xf8\\xfb\\xbf\\xb9\\x86\\xb0c2\\xf0\\xda?g>\\xe8\\xa9\\xa3\\x0f\\xeb?2$\\xd7\\x7f\\xbb\\xbb\\xf1?\\xa9\\x89\\x078\\x93&\\xd9\\xbf]J\\xf4\\x98\\x18\\xce\\xe2?\\xda\\x06UK\\x93\\x04\\xef?z\\x04\\x15ku\\\\\\xde?\\x1b/+\\xa4\\x04v\\xf2?u\\xf0\\xf4IKt\\xd9\\xbf\\xc6\\xef:\\xe4\\xce\\xd0\\xef?\\xfe\\x87S\\xaf\\x87\\x93\\xe5\\xbf\\xff\\xa3*\\xb0]/\\xdd?\\x16T\\xce\\x97\\xb4\\x84\\xf1\\xbf\\x89l\\xad\\x1fR\\xaa\\xe3\\xbf\\xe20\\x8a\\x7f\\x08>\\xf4\\xbf\\xc0K\\x1a\\x8f\\xa4\\x99\\xdb?\\xee\\xff\\xc3s\\xc5\\xae\\xcf\\xbf\\xbbJ\\x1fb\\x89\\xec\\xf6\\xbf\\x0b;q\\xdb\\xdf\\xbf\\xe0?\\xe7\\xee\\x8e\\xafm\\xa9\\xc3?\\xf7\\x93?\\x98U\\x13\\xe4?\\x1d2:\\xc528\\xe5?\\x9b[k\\xb3\\xb3\\\\\\xe3\\xbfL\\xd1s\\x9bD\\x83\\xf9?'"
      ]
     },
     "execution_count": 694,
     "metadata": {},
     "output_type": "execute_result"
    }
   ],
   "execution_count": 694
  },
  {
   "cell_type": "markdown",
   "metadata": {},
   "source": [
    "### 3.3.5 数组的去重"
   ]
  },
  {
   "cell_type": "code",
   "metadata": {
    "ExecuteTime": {
     "end_time": "2024-10-15T16:29:05.021439Z",
     "start_time": "2024-10-15T16:29:05.017544Z"
    }
   },
   "source": [
    "temp = np.array([[1, 2, 3, 4],[3, 4, 5, 6]])"
   ],
   "outputs": [],
   "execution_count": 695
  },
  {
   "cell_type": "code",
   "metadata": {
    "ExecuteTime": {
     "end_time": "2024-10-15T16:29:05.191418Z",
     "start_time": "2024-10-15T16:29:05.185349Z"
    }
   },
   "source": [
    "temp"
   ],
   "outputs": [
    {
     "data": {
      "text/plain": [
       "array([[1, 2, 3, 4],\n",
       "       [3, 4, 5, 6]])"
      ]
     },
     "execution_count": 696,
     "metadata": {},
     "output_type": "execute_result"
    }
   ],
   "execution_count": 696
  },
  {
   "cell_type": "code",
   "metadata": {
    "ExecuteTime": {
     "end_time": "2024-10-15T16:29:05.331343Z",
     "start_time": "2024-10-15T16:29:05.327553Z"
    }
   },
   "source": [
    "np.unique(temp)"
   ],
   "outputs": [
    {
     "data": {
      "text/plain": [
       "array([1, 2, 3, 4, 5, 6])"
      ]
     },
     "execution_count": 697,
     "metadata": {},
     "output_type": "execute_result"
    }
   ],
   "execution_count": 697
  },
  {
   "cell_type": "code",
   "metadata": {
    "ExecuteTime": {
     "end_time": "2024-10-15T16:29:05.557684Z",
     "start_time": "2024-10-15T16:29:05.553875Z"
    }
   },
   "source": [
    "set(temp.flatten())"
   ],
   "outputs": [
    {
     "data": {
      "text/plain": [
       "{np.int64(1), np.int64(2), np.int64(3), np.int64(4), np.int64(5), np.int64(6)}"
      ]
     },
     "execution_count": 698,
     "metadata": {},
     "output_type": "execute_result"
    }
   ],
   "execution_count": 698
  },
  {
   "cell_type": "markdown",
   "metadata": {},
   "source": [
    "### 3.4.1 逻辑运算"
   ]
  },
  {
   "cell_type": "code",
   "metadata": {
    "ExecuteTime": {
     "end_time": "2024-10-15T16:29:05.732935Z",
     "start_time": "2024-10-15T16:29:05.729227Z"
    }
   },
   "source": [
    "stock_change = np.random.normal(loc=0, scale=1, size=(8, 10))"
   ],
   "outputs": [],
   "execution_count": 699
  },
  {
   "cell_type": "code",
   "metadata": {
    "ExecuteTime": {
     "end_time": "2024-10-15T16:29:05.905547Z",
     "start_time": "2024-10-15T16:29:05.900657Z"
    }
   },
   "source": [
    "stock_change"
   ],
   "outputs": [
    {
     "data": {
      "text/plain": [
       "array([[-1.0528857 , -0.70889868,  0.19779253,  0.21274783, -0.72327586,\n",
       "         1.99942907, -0.50659595, -0.74767052, -0.32156549,  0.60025527],\n",
       "       [-0.06844282, -1.81958302,  0.60837469,  0.43334044,  0.29239158,\n",
       "         1.05938747,  0.71165353,  1.89162572,  0.05628565, -1.37868397],\n",
       "       [-0.68184213,  0.48711565, -0.37519117, -0.76388344,  0.3122699 ,\n",
       "         0.99589638,  0.22441916,  1.14120997, -0.01232611, -0.02155378],\n",
       "       [-1.11215264,  0.9145299 , -0.04569626, -0.45925566,  0.78430644,\n",
       "         0.80658826, -0.94712614,  0.10442681,  0.15584756, -0.26482872],\n",
       "       [-0.26485254, -0.95623437,  0.78001283,  2.08135186, -1.72720839,\n",
       "         0.10180881, -0.98280872,  0.05578321, -0.67785823,  0.0639117 ],\n",
       "       [-0.65563338,  0.38335212, -0.09583005,  0.98540438, -1.13871644,\n",
       "        -1.52074544, -1.22722088,  1.05287662, -0.22706514, -0.45651395],\n",
       "       [ 0.31934625, -0.46380293,  1.13683016, -1.5597698 , -0.68263228,\n",
       "        -0.65511175, -0.379692  ,  0.30033305,  0.24262613, -0.96228829],\n",
       "       [-0.44169344,  1.18871748, -0.11948769,  0.96128003, -2.28713335,\n",
       "         0.35926131, -0.33938357, -0.18176122,  0.36036412, -1.19678643]])"
      ]
     },
     "execution_count": 700,
     "metadata": {},
     "output_type": "execute_result"
    }
   ],
   "execution_count": 700
  },
  {
   "cell_type": "code",
   "metadata": {
    "ExecuteTime": {
     "end_time": "2024-10-15T16:29:06.004849Z",
     "start_time": "2024-10-15T16:29:06.000059Z"
    }
   },
   "source": [
    "# 逻辑判断, 如果涨跌幅大于0.5就标记为True 否则为False\n",
    "stock_change > 0.5"
   ],
   "outputs": [
    {
     "data": {
      "text/plain": [
       "array([[False, False, False, False, False,  True, False, False, False,\n",
       "         True],\n",
       "       [False, False,  True, False, False,  True,  True,  True, False,\n",
       "        False],\n",
       "       [False, False, False, False, False,  True, False,  True, False,\n",
       "        False],\n",
       "       [False,  True, False, False,  True,  True, False, False, False,\n",
       "        False],\n",
       "       [False, False,  True,  True, False, False, False, False, False,\n",
       "        False],\n",
       "       [False, False, False,  True, False, False, False,  True, False,\n",
       "        False],\n",
       "       [False, False,  True, False, False, False, False, False, False,\n",
       "        False],\n",
       "       [False,  True, False,  True, False, False, False, False, False,\n",
       "        False]])"
      ]
     },
     "execution_count": 701,
     "metadata": {},
     "output_type": "execute_result"
    }
   ],
   "execution_count": 701
  },
  {
   "cell_type": "code",
   "metadata": {
    "ExecuteTime": {
     "end_time": "2024-10-15T16:29:06.183463Z",
     "start_time": "2024-10-15T16:29:06.179326Z"
    }
   },
   "source": [
    "stock_change[stock_change > 0.5] = 1.1"
   ],
   "outputs": [],
   "execution_count": 702
  },
  {
   "cell_type": "code",
   "metadata": {
    "ExecuteTime": {
     "end_time": "2024-10-15T16:29:06.490458Z",
     "start_time": "2024-10-15T16:29:06.485580Z"
    }
   },
   "source": [
    "stock_change"
   ],
   "outputs": [
    {
     "data": {
      "text/plain": [
       "array([[-1.0528857 , -0.70889868,  0.19779253,  0.21274783, -0.72327586,\n",
       "         1.1       , -0.50659595, -0.74767052, -0.32156549,  1.1       ],\n",
       "       [-0.06844282, -1.81958302,  1.1       ,  0.43334044,  0.29239158,\n",
       "         1.1       ,  1.1       ,  1.1       ,  0.05628565, -1.37868397],\n",
       "       [-0.68184213,  0.48711565, -0.37519117, -0.76388344,  0.3122699 ,\n",
       "         1.1       ,  0.22441916,  1.1       , -0.01232611, -0.02155378],\n",
       "       [-1.11215264,  1.1       , -0.04569626, -0.45925566,  1.1       ,\n",
       "         1.1       , -0.94712614,  0.10442681,  0.15584756, -0.26482872],\n",
       "       [-0.26485254, -0.95623437,  1.1       ,  1.1       , -1.72720839,\n",
       "         0.10180881, -0.98280872,  0.05578321, -0.67785823,  0.0639117 ],\n",
       "       [-0.65563338,  0.38335212, -0.09583005,  1.1       , -1.13871644,\n",
       "        -1.52074544, -1.22722088,  1.1       , -0.22706514, -0.45651395],\n",
       "       [ 0.31934625, -0.46380293,  1.1       , -1.5597698 , -0.68263228,\n",
       "        -0.65511175, -0.379692  ,  0.30033305,  0.24262613, -0.96228829],\n",
       "       [-0.44169344,  1.1       , -0.11948769,  1.1       , -2.28713335,\n",
       "         0.35926131, -0.33938357, -0.18176122,  0.36036412, -1.19678643]])"
      ]
     },
     "execution_count": 703,
     "metadata": {},
     "output_type": "execute_result"
    }
   ],
   "execution_count": 703
  },
  {
   "cell_type": "code",
   "metadata": {
    "ExecuteTime": {
     "end_time": "2024-10-15T16:29:06.668671Z",
     "start_time": "2024-10-15T16:29:06.664263Z"
    }
   },
   "source": [
    "# 判断stock_change[0:2, 0:5]是否全是上涨的\n",
    "stock_change[0:2, 0:5] > 0"
   ],
   "outputs": [
    {
     "data": {
      "text/plain": [
       "array([[False, False,  True,  True, False],\n",
       "       [False, False,  True,  True,  True]])"
      ]
     },
     "execution_count": 704,
     "metadata": {},
     "output_type": "execute_result"
    }
   ],
   "execution_count": 704
  },
  {
   "cell_type": "code",
   "metadata": {
    "ExecuteTime": {
     "end_time": "2024-10-15T16:29:07.462548Z",
     "start_time": "2024-10-15T16:29:07.457915Z"
    }
   },
   "source": [
    "np.all(stock_change[0:2, 0:5] > 0)"
   ],
   "outputs": [
    {
     "data": {
      "text/plain": [
       "np.False_"
      ]
     },
     "execution_count": 705,
     "metadata": {},
     "output_type": "execute_result"
    }
   ],
   "execution_count": 705
  },
  {
   "cell_type": "code",
   "metadata": {
    "ExecuteTime": {
     "end_time": "2024-10-15T16:29:07.544719Z",
     "start_time": "2024-10-15T16:29:07.540167Z"
    }
   },
   "source": [
    "# 判断前5只股票这段期间是否有上涨的\n",
    "np.any(stock_change[:5, :] > 0)"
   ],
   "outputs": [
    {
     "data": {
      "text/plain": [
       "np.True_"
      ]
     },
     "execution_count": 706,
     "metadata": {},
     "output_type": "execute_result"
    }
   ],
   "execution_count": 706
  },
  {
   "cell_type": "markdown",
   "metadata": {},
   "source": [
    "### 3.4.3 np.where（三元运算符）"
   ]
  },
  {
   "cell_type": "code",
   "metadata": {
    "ExecuteTime": {
     "end_time": "2024-10-15T16:29:07.741282Z",
     "start_time": "2024-10-15T16:29:07.737725Z"
    }
   },
   "source": [
    "# 判断前四个股票前四天的涨跌幅 大于0的置为1，否则为0\n",
    "temp = stock_change[:4, :4]"
   ],
   "outputs": [],
   "execution_count": 707
  },
  {
   "cell_type": "code",
   "metadata": {
    "ExecuteTime": {
     "end_time": "2024-10-15T16:29:07.884860Z",
     "start_time": "2024-10-15T16:29:07.879928Z"
    }
   },
   "source": [
    "temp"
   ],
   "outputs": [
    {
     "data": {
      "text/plain": [
       "array([[-1.0528857 , -0.70889868,  0.19779253,  0.21274783],\n",
       "       [-0.06844282, -1.81958302,  1.1       ,  0.43334044],\n",
       "       [-0.68184213,  0.48711565, -0.37519117, -0.76388344],\n",
       "       [-1.11215264,  1.1       , -0.04569626, -0.45925566]])"
      ]
     },
     "execution_count": 708,
     "metadata": {},
     "output_type": "execute_result"
    }
   ],
   "execution_count": 708
  },
  {
   "cell_type": "code",
   "metadata": {
    "ExecuteTime": {
     "end_time": "2024-10-15T16:29:07.985786Z",
     "start_time": "2024-10-15T16:29:07.981125Z"
    }
   },
   "source": [
    "np.where(temp > 0, 1, 0)"
   ],
   "outputs": [
    {
     "data": {
      "text/plain": [
       "array([[0, 0, 1, 1],\n",
       "       [0, 0, 1, 1],\n",
       "       [0, 1, 0, 0],\n",
       "       [0, 1, 0, 0]])"
      ]
     },
     "execution_count": 709,
     "metadata": {},
     "output_type": "execute_result"
    }
   ],
   "execution_count": 709
  },
  {
   "cell_type": "code",
   "metadata": {
    "ExecuteTime": {
     "end_time": "2024-10-15T16:29:08.166735Z",
     "start_time": "2024-10-15T16:29:08.161857Z"
    }
   },
   "source": [
    "temp > 0"
   ],
   "outputs": [
    {
     "data": {
      "text/plain": [
       "array([[False, False,  True,  True],\n",
       "       [False, False,  True,  True],\n",
       "       [False,  True, False, False],\n",
       "       [False,  True, False, False]])"
      ]
     },
     "execution_count": 710,
     "metadata": {},
     "output_type": "execute_result"
    }
   ],
   "execution_count": 710
  },
  {
   "cell_type": "code",
   "metadata": {
    "ExecuteTime": {
     "end_time": "2024-10-15T16:29:08.443388Z",
     "start_time": "2024-10-15T16:29:08.439114Z"
    }
   },
   "source": [
    "np.where([[ True, False,  True,  True],\n",
    "       [ True,  True,  True,  True],\n",
    "       [False, False,  True, False],\n",
    "       [ True, False,  True, False]], 1, 0)"
   ],
   "outputs": [
    {
     "data": {
      "text/plain": [
       "array([[1, 0, 1, 1],\n",
       "       [1, 1, 1, 1],\n",
       "       [0, 0, 1, 0],\n",
       "       [1, 0, 1, 0]])"
      ]
     },
     "execution_count": 711,
     "metadata": {},
     "output_type": "execute_result"
    }
   ],
   "execution_count": 711
  },
  {
   "cell_type": "code",
   "metadata": {
    "ExecuteTime": {
     "end_time": "2024-10-15T16:29:08.779865Z",
     "start_time": "2024-10-15T16:29:08.775160Z"
    }
   },
   "source": [
    "temp"
   ],
   "outputs": [
    {
     "data": {
      "text/plain": [
       "array([[-1.0528857 , -0.70889868,  0.19779253,  0.21274783],\n",
       "       [-0.06844282, -1.81958302,  1.1       ,  0.43334044],\n",
       "       [-0.68184213,  0.48711565, -0.37519117, -0.76388344],\n",
       "       [-1.11215264,  1.1       , -0.04569626, -0.45925566]])"
      ]
     },
     "execution_count": 712,
     "metadata": {},
     "output_type": "execute_result"
    }
   ],
   "execution_count": 712
  },
  {
   "cell_type": "code",
   "metadata": {
    "ExecuteTime": {
     "end_time": "2024-10-15T16:29:09.189106Z",
     "start_time": "2024-10-15T16:29:09.183950Z"
    }
   },
   "source": [
    "# 判断前四个股票前四天的涨跌幅 大于0.5并且小于1的，换为1，否则为0\n",
    "# 判断前四个股票前四天的涨跌幅 大于0.5或者小于-0.5的，换为1，否则为0\n",
    "# (temp > 0.5) and (temp < 1)\n",
    "np.logical_and(temp > 0.5, temp < 1)"
   ],
   "outputs": [
    {
     "data": {
      "text/plain": [
       "array([[False, False, False, False],\n",
       "       [False, False, False, False],\n",
       "       [False, False, False, False],\n",
       "       [False, False, False, False]])"
      ]
     },
     "execution_count": 713,
     "metadata": {},
     "output_type": "execute_result"
    }
   ],
   "execution_count": 713
  },
  {
   "cell_type": "code",
   "metadata": {
    "ExecuteTime": {
     "end_time": "2024-10-15T16:29:09.458999Z",
     "start_time": "2024-10-15T16:29:09.454589Z"
    }
   },
   "source": [
    "np.where([[False, False, False, False],\n",
    "       [False, False, False, False],\n",
    "       [False, False, False, False],\n",
    "       [False, False, False, False]], 1, 0)"
   ],
   "outputs": [
    {
     "data": {
      "text/plain": [
       "array([[0, 0, 0, 0],\n",
       "       [0, 0, 0, 0],\n",
       "       [0, 0, 0, 0],\n",
       "       [0, 0, 0, 0]])"
      ]
     },
     "execution_count": 714,
     "metadata": {},
     "output_type": "execute_result"
    }
   ],
   "execution_count": 714
  },
  {
   "cell_type": "code",
   "metadata": {
    "ExecuteTime": {
     "end_time": "2024-10-15T16:29:09.735788Z",
     "start_time": "2024-10-15T16:29:09.731551Z"
    }
   },
   "source": [
    "np.where(np.logical_and(temp > 0.5, temp < 1), 1, 0)"
   ],
   "outputs": [
    {
     "data": {
      "text/plain": [
       "array([[0, 0, 0, 0],\n",
       "       [0, 0, 0, 0],\n",
       "       [0, 0, 0, 0],\n",
       "       [0, 0, 0, 0]])"
      ]
     },
     "execution_count": 715,
     "metadata": {},
     "output_type": "execute_result"
    }
   ],
   "execution_count": 715
  },
  {
   "cell_type": "code",
   "metadata": {
    "ExecuteTime": {
     "end_time": "2024-10-15T16:29:10.056014Z",
     "start_time": "2024-10-15T16:29:10.051394Z"
    }
   },
   "source": [
    "np.logical_or(temp > 0.5, temp < -0.5)"
   ],
   "outputs": [
    {
     "data": {
      "text/plain": [
       "array([[ True,  True, False, False],\n",
       "       [False,  True,  True, False],\n",
       "       [ True, False, False,  True],\n",
       "       [ True,  True, False, False]])"
      ]
     },
     "execution_count": 716,
     "metadata": {},
     "output_type": "execute_result"
    }
   ],
   "execution_count": 716
  },
  {
   "cell_type": "code",
   "metadata": {
    "ExecuteTime": {
     "end_time": "2024-10-15T16:29:10.326146Z",
     "start_time": "2024-10-15T16:29:10.321729Z"
    }
   },
   "source": [
    "np.where(np.logical_or(temp > 0.5, temp < -0.5), 11, 3)"
   ],
   "outputs": [
    {
     "data": {
      "text/plain": [
       "array([[11, 11,  3,  3],\n",
       "       [ 3, 11, 11,  3],\n",
       "       [11,  3,  3, 11],\n",
       "       [11, 11,  3,  3]])"
      ]
     },
     "execution_count": 717,
     "metadata": {},
     "output_type": "execute_result"
    }
   ],
   "execution_count": 717
  },
  {
   "cell_type": "markdown",
   "metadata": {},
   "source": [
    "### 2 股票涨跌幅统计运算"
   ]
  },
  {
   "cell_type": "code",
   "metadata": {
    "ExecuteTime": {
     "end_time": "2024-10-15T16:29:10.643751Z",
     "start_time": "2024-10-15T16:29:10.638124Z"
    }
   },
   "source": [
    "# 前四只股票前四天的最大涨幅\n",
    "temp # shape: (4, 4) 0  1"
   ],
   "outputs": [
    {
     "data": {
      "text/plain": [
       "array([[-1.0528857 , -0.70889868,  0.19779253,  0.21274783],\n",
       "       [-0.06844282, -1.81958302,  1.1       ,  0.43334044],\n",
       "       [-0.68184213,  0.48711565, -0.37519117, -0.76388344],\n",
       "       [-1.11215264,  1.1       , -0.04569626, -0.45925566]])"
      ]
     },
     "execution_count": 718,
     "metadata": {},
     "output_type": "execute_result"
    }
   ],
   "execution_count": 718
  },
  {
   "cell_type": "code",
   "metadata": {
    "ExecuteTime": {
     "end_time": "2024-10-15T16:29:10.907156Z",
     "start_time": "2024-10-15T16:29:10.902217Z"
    }
   },
   "source": [
    "temp.max(axis=0)"
   ],
   "outputs": [
    {
     "data": {
      "text/plain": [
       "array([-0.06844282,  1.1       ,  1.1       ,  0.43334044])"
      ]
     },
     "execution_count": 719,
     "metadata": {},
     "output_type": "execute_result"
    }
   ],
   "execution_count": 719
  },
  {
   "cell_type": "code",
   "metadata": {
    "ExecuteTime": {
     "end_time": "2024-10-15T16:29:11.164865Z",
     "start_time": "2024-10-15T16:29:11.159937Z"
    }
   },
   "source": [
    "np.max(temp, axis=-1)"
   ],
   "outputs": [
    {
     "data": {
      "text/plain": [
       "array([0.21274783, 1.1       , 0.48711565, 1.1       ])"
      ]
     },
     "execution_count": 720,
     "metadata": {},
     "output_type": "execute_result"
    }
   ],
   "execution_count": 720
  },
  {
   "cell_type": "code",
   "metadata": {
    "ExecuteTime": {
     "end_time": "2024-10-15T16:29:11.343523Z",
     "start_time": "2024-10-15T16:29:11.338785Z"
    }
   },
   "source": [
    "np.argmax(temp, axis=-1)"
   ],
   "outputs": [
    {
     "data": {
      "text/plain": [
       "array([3, 2, 1, 1])"
      ]
     },
     "execution_count": 721,
     "metadata": {},
     "output_type": "execute_result"
    }
   ],
   "execution_count": 721
  },
  {
   "cell_type": "markdown",
   "metadata": {},
   "source": [
    "### 3.5.2 数组与数的运算"
   ]
  },
  {
   "cell_type": "code",
   "metadata": {
    "ExecuteTime": {
     "end_time": "2024-10-15T16:29:11.470612Z",
     "start_time": "2024-10-15T16:29:11.465852Z"
    }
   },
   "source": [
    "arr = np.array([[1, 2, 3, 2, 1, 4], [5, 6, 1, 2, 3, 1]])"
   ],
   "outputs": [],
   "execution_count": 722
  },
  {
   "cell_type": "code",
   "metadata": {
    "ExecuteTime": {
     "end_time": "2024-10-15T16:29:11.576198Z",
     "start_time": "2024-10-15T16:29:11.570522Z"
    }
   },
   "source": [
    "arr / 10"
   ],
   "outputs": [
    {
     "data": {
      "text/plain": [
       "array([[0.1, 0.2, 0.3, 0.2, 0.1, 0.4],\n",
       "       [0.5, 0.6, 0.1, 0.2, 0.3, 0.1]])"
      ]
     },
     "execution_count": 723,
     "metadata": {},
     "output_type": "execute_result"
    }
   ],
   "execution_count": 723
  },
  {
   "cell_type": "code",
   "metadata": {
    "ExecuteTime": {
     "end_time": "2024-10-15T16:29:11.638821Z",
     "start_time": "2024-10-15T16:29:11.635053Z"
    }
   },
   "source": [
    "a = [1, 2, 3, 4, 5]"
   ],
   "outputs": [],
   "execution_count": 724
  },
  {
   "cell_type": "code",
   "metadata": {
    "ExecuteTime": {
     "end_time": "2024-10-15T16:29:11.728927Z",
     "start_time": "2024-10-15T16:29:11.725503Z"
    }
   },
   "source": [
    "# a * 10"
   ],
   "outputs": [],
   "execution_count": 725
  },
  {
   "cell_type": "markdown",
   "metadata": {},
   "source": [
    "### 3.5.3 数组与数组的运算"
   ]
  },
  {
   "cell_type": "code",
   "metadata": {
    "ExecuteTime": {
     "end_time": "2024-10-15T16:29:11.828842Z",
     "start_time": "2024-10-15T16:29:11.825419Z"
    }
   },
   "source": [
    "arr1 = np.array([[1, 2, 3, 2, 1, 4], [5, 6, 1, 2, 3, 1]])\n",
    "arr2 = np.array([[1, 2, 3, 4], [3, 4, 5, 6]])\n"
   ],
   "outputs": [],
   "execution_count": 726
  },
  {
   "cell_type": "code",
   "metadata": {
    "ExecuteTime": {
     "end_time": "2024-10-15T16:29:11.993062Z",
     "start_time": "2024-10-15T16:29:11.987978Z"
    }
   },
   "source": [
    "arr1 # (2, 6)"
   ],
   "outputs": [
    {
     "data": {
      "text/plain": [
       "array([[1, 2, 3, 2, 1, 4],\n",
       "       [5, 6, 1, 2, 3, 1]])"
      ]
     },
     "execution_count": 727,
     "metadata": {},
     "output_type": "execute_result"
    }
   ],
   "execution_count": 727
  },
  {
   "cell_type": "code",
   "metadata": {
    "ExecuteTime": {
     "end_time": "2024-10-15T16:29:12.099944Z",
     "start_time": "2024-10-15T16:29:12.095176Z"
    }
   },
   "source": [
    "arr2 # (2, 4)"
   ],
   "outputs": [
    {
     "data": {
      "text/plain": [
       "array([[1, 2, 3, 4],\n",
       "       [3, 4, 5, 6]])"
      ]
     },
     "execution_count": 728,
     "metadata": {},
     "output_type": "execute_result"
    }
   ],
   "execution_count": 728
  },
  {
   "cell_type": "code",
   "metadata": {
    "ExecuteTime": {
     "end_time": "2024-10-15T16:29:12.808006Z",
     "start_time": "2024-10-15T16:29:12.805072Z"
    }
   },
   "source": [
    "# arr1 + arr2"
   ],
   "outputs": [],
   "execution_count": 729
  },
  {
   "cell_type": "code",
   "metadata": {
    "ExecuteTime": {
     "end_time": "2024-10-15T16:29:12.867802Z",
     "start_time": "2024-10-15T16:29:12.864869Z"
    }
   },
   "source": [
    "arr1 = np.array([[1, 2, 3, 2, 1, 4], [5, 6, 1, 2, 3, 1]])\n",
    "arr2 = np.array([[1], [3]])"
   ],
   "outputs": [],
   "execution_count": 730
  },
  {
   "cell_type": "code",
   "metadata": {
    "ExecuteTime": {
     "end_time": "2024-10-15T16:29:13.047582Z",
     "start_time": "2024-10-15T16:29:13.043662Z"
    }
   },
   "source": [
    "arr1 # (2, 6)"
   ],
   "outputs": [
    {
     "data": {
      "text/plain": [
       "array([[1, 2, 3, 2, 1, 4],\n",
       "       [5, 6, 1, 2, 3, 1]])"
      ]
     },
     "execution_count": 731,
     "metadata": {},
     "output_type": "execute_result"
    }
   ],
   "execution_count": 731
  },
  {
   "cell_type": "code",
   "metadata": {
    "ExecuteTime": {
     "end_time": "2024-10-15T16:29:13.168535Z",
     "start_time": "2024-10-15T16:29:13.164038Z"
    }
   },
   "source": [
    "arr2 # (2, 1)"
   ],
   "outputs": [
    {
     "data": {
      "text/plain": [
       "array([[1],\n",
       "       [3]])"
      ]
     },
     "execution_count": 732,
     "metadata": {},
     "output_type": "execute_result"
    }
   ],
   "execution_count": 732
  },
  {
   "cell_type": "code",
   "metadata": {
    "ExecuteTime": {
     "end_time": "2024-10-15T16:29:13.379763Z",
     "start_time": "2024-10-15T16:29:13.375079Z"
    }
   },
   "source": [
    "arr1 + arr2"
   ],
   "outputs": [
    {
     "data": {
      "text/plain": [
       "array([[2, 3, 4, 3, 2, 5],\n",
       "       [8, 9, 4, 5, 6, 4]])"
      ]
     },
     "execution_count": 733,
     "metadata": {},
     "output_type": "execute_result"
    }
   ],
   "execution_count": 733
  },
  {
   "cell_type": "code",
   "metadata": {
    "ExecuteTime": {
     "end_time": "2024-10-15T16:29:13.672907Z",
     "start_time": "2024-10-15T16:29:13.668591Z"
    }
   },
   "source": [
    "arr1 * arr2"
   ],
   "outputs": [
    {
     "data": {
      "text/plain": [
       "array([[ 1,  2,  3,  2,  1,  4],\n",
       "       [15, 18,  3,  6,  9,  3]])"
      ]
     },
     "execution_count": 734,
     "metadata": {},
     "output_type": "execute_result"
    }
   ],
   "execution_count": 734
  },
  {
   "cell_type": "code",
   "metadata": {
    "ExecuteTime": {
     "end_time": "2024-10-15T16:29:13.951231Z",
     "start_time": "2024-10-15T16:29:13.946561Z"
    }
   },
   "source": [
    "arr1 / arr2"
   ],
   "outputs": [
    {
     "data": {
      "text/plain": [
       "array([[1.        , 2.        , 3.        , 2.        , 1.        ,\n",
       "        4.        ],\n",
       "       [1.66666667, 2.        , 0.33333333, 0.66666667, 1.        ,\n",
       "        0.33333333]])"
      ]
     },
     "execution_count": 735,
     "metadata": {},
     "output_type": "execute_result"
    }
   ],
   "execution_count": 735
  },
  {
   "cell_type": "markdown",
   "metadata": {},
   "source": [
    "### 3.5.5 矩阵运算"
   ]
  },
  {
   "cell_type": "code",
   "metadata": {
    "ExecuteTime": {
     "end_time": "2024-10-15T16:29:14.205505Z",
     "start_time": "2024-10-15T16:29:14.200981Z"
    }
   },
   "source": [
    "# ndarray存储矩阵\n",
    "data = np.array([[80, 86],\n",
    "[82, 80],\n",
    "[85, 78],\n",
    "[90, 90],\n",
    "[86, 82],\n",
    "[82, 90],\n",
    "[78, 80],\n",
    "[92, 94]])"
   ],
   "outputs": [],
   "execution_count": 736
  },
  {
   "cell_type": "code",
   "metadata": {
    "ExecuteTime": {
     "end_time": "2024-10-15T16:29:14.433615Z",
     "start_time": "2024-10-15T16:29:14.428805Z"
    }
   },
   "source": [
    "data"
   ],
   "outputs": [
    {
     "data": {
      "text/plain": [
       "array([[80, 86],\n",
       "       [82, 80],\n",
       "       [85, 78],\n",
       "       [90, 90],\n",
       "       [86, 82],\n",
       "       [82, 90],\n",
       "       [78, 80],\n",
       "       [92, 94]])"
      ]
     },
     "execution_count": 737,
     "metadata": {},
     "output_type": "execute_result"
    }
   ],
   "execution_count": 737
  },
  {
   "cell_type": "code",
   "metadata": {
    "ExecuteTime": {
     "end_time": "2024-10-15T16:29:14.670355Z",
     "start_time": "2024-10-15T16:29:14.666366Z"
    }
   },
   "source": [
    "# matrix存储矩阵\n",
    "data_mat = np.asmatrix([[80, 86],\n",
    "[82, 80],\n",
    "[85, 78],\n",
    "[90, 90],\n",
    "[86, 82],\n",
    "[82, 90],\n",
    "[78, 80],\n",
    "[92, 94]])"
   ],
   "outputs": [],
   "execution_count": 738
  },
  {
   "cell_type": "code",
   "metadata": {
    "ExecuteTime": {
     "end_time": "2024-10-15T16:29:14.804823Z",
     "start_time": "2024-10-15T16:29:14.800003Z"
    }
   },
   "source": [
    "type(data_mat)"
   ],
   "outputs": [
    {
     "data": {
      "text/plain": [
       "numpy.matrix"
      ]
     },
     "execution_count": 739,
     "metadata": {},
     "output_type": "execute_result"
    }
   ],
   "execution_count": 739
  },
  {
   "cell_type": "code",
   "metadata": {
    "ExecuteTime": {
     "end_time": "2024-10-15T16:29:15.016778Z",
     "start_time": "2024-10-15T16:29:15.012416Z"
    }
   },
   "source": [
    "data # (8, 2) * (2, 1) = (8, 1)"
   ],
   "outputs": [
    {
     "data": {
      "text/plain": [
       "array([[80, 86],\n",
       "       [82, 80],\n",
       "       [85, 78],\n",
       "       [90, 90],\n",
       "       [86, 82],\n",
       "       [82, 90],\n",
       "       [78, 80],\n",
       "       [92, 94]])"
      ]
     },
     "execution_count": 740,
     "metadata": {},
     "output_type": "execute_result"
    }
   ],
   "execution_count": 740
  },
  {
   "cell_type": "code",
   "metadata": {
    "ExecuteTime": {
     "end_time": "2024-10-15T16:29:15.124177Z",
     "start_time": "2024-10-15T16:29:15.120407Z"
    }
   },
   "source": [
    "weights = np.array([[0.3], [0.7]])"
   ],
   "outputs": [],
   "execution_count": 741
  },
  {
   "cell_type": "code",
   "metadata": {
    "ExecuteTime": {
     "end_time": "2024-10-15T16:29:15.294182Z",
     "start_time": "2024-10-15T16:29:15.289957Z"
    }
   },
   "source": [
    "weights"
   ],
   "outputs": [
    {
     "data": {
      "text/plain": [
       "array([[0.3],\n",
       "       [0.7]])"
      ]
     },
     "execution_count": 742,
     "metadata": {},
     "output_type": "execute_result"
    }
   ],
   "execution_count": 742
  },
  {
   "cell_type": "code",
   "metadata": {
    "ExecuteTime": {
     "end_time": "2024-10-15T16:29:15.437524Z",
     "start_time": "2024-10-15T16:29:15.433411Z"
    }
   },
   "source": "weights_mat = np.asmatrix([[0.3], [0.7]])",
   "outputs": [],
   "execution_count": 743
  },
  {
   "cell_type": "code",
   "metadata": {
    "ExecuteTime": {
     "end_time": "2024-10-15T16:29:15.534085Z",
     "start_time": "2024-10-15T16:29:15.529611Z"
    }
   },
   "source": [
    "weights_mat"
   ],
   "outputs": [
    {
     "data": {
      "text/plain": [
       "matrix([[0.3],\n",
       "        [0.7]])"
      ]
     },
     "execution_count": 744,
     "metadata": {},
     "output_type": "execute_result"
    }
   ],
   "execution_count": 744
  },
  {
   "cell_type": "code",
   "metadata": {
    "ExecuteTime": {
     "end_time": "2024-10-15T16:29:15.763233Z",
     "start_time": "2024-10-15T16:29:15.758832Z"
    }
   },
   "source": [
    "# 矩阵运算\n",
    "data"
   ],
   "outputs": [
    {
     "data": {
      "text/plain": [
       "array([[80, 86],\n",
       "       [82, 80],\n",
       "       [85, 78],\n",
       "       [90, 90],\n",
       "       [86, 82],\n",
       "       [82, 90],\n",
       "       [78, 80],\n",
       "       [92, 94]])"
      ]
     },
     "execution_count": 745,
     "metadata": {},
     "output_type": "execute_result"
    }
   ],
   "execution_count": 745
  },
  {
   "cell_type": "code",
   "metadata": {
    "ExecuteTime": {
     "end_time": "2024-10-15T16:29:15.896541Z",
     "start_time": "2024-10-15T16:29:15.892851Z"
    }
   },
   "source": [
    "weights"
   ],
   "outputs": [
    {
     "data": {
      "text/plain": [
       "array([[0.3],\n",
       "       [0.7]])"
      ]
     },
     "execution_count": 746,
     "metadata": {},
     "output_type": "execute_result"
    }
   ],
   "execution_count": 746
  },
  {
   "cell_type": "code",
   "metadata": {
    "ExecuteTime": {
     "end_time": "2024-10-15T16:29:16.169917Z",
     "start_time": "2024-10-15T16:29:16.165346Z"
    }
   },
   "source": [
    "np.matmul(data, weights)"
   ],
   "outputs": [
    {
     "data": {
      "text/plain": [
       "array([[84.2],\n",
       "       [80.6],\n",
       "       [80.1],\n",
       "       [90. ],\n",
       "       [83.2],\n",
       "       [87.6],\n",
       "       [79.4],\n",
       "       [93.4]])"
      ]
     },
     "execution_count": 747,
     "metadata": {},
     "output_type": "execute_result"
    }
   ],
   "execution_count": 747
  },
  {
   "cell_type": "code",
   "metadata": {
    "ExecuteTime": {
     "end_time": "2024-10-15T16:29:16.424264Z",
     "start_time": "2024-10-15T16:29:16.419056Z"
    }
   },
   "source": [
    "np.dot(data, weights)"
   ],
   "outputs": [
    {
     "data": {
      "text/plain": [
       "array([[84.2],\n",
       "       [80.6],\n",
       "       [80.1],\n",
       "       [90. ],\n",
       "       [83.2],\n",
       "       [87.6],\n",
       "       [79.4],\n",
       "       [93.4]])"
      ]
     },
     "execution_count": 748,
     "metadata": {},
     "output_type": "execute_result"
    }
   ],
   "execution_count": 748
  },
  {
   "cell_type": "code",
   "metadata": {
    "ExecuteTime": {
     "end_time": "2024-10-15T16:29:16.633152Z",
     "start_time": "2024-10-15T16:29:16.629209Z"
    }
   },
   "source": [
    "data_mat * weights_mat"
   ],
   "outputs": [
    {
     "data": {
      "text/plain": [
       "matrix([[84.2],\n",
       "        [80.6],\n",
       "        [80.1],\n",
       "        [90. ],\n",
       "        [83.2],\n",
       "        [87.6],\n",
       "        [79.4],\n",
       "        [93.4]])"
      ]
     },
     "execution_count": 749,
     "metadata": {},
     "output_type": "execute_result"
    }
   ],
   "execution_count": 749
  },
  {
   "cell_type": "code",
   "metadata": {
    "ExecuteTime": {
     "end_time": "2024-10-15T16:29:17.379356Z",
     "start_time": "2024-10-15T16:29:17.374371Z"
    }
   },
   "source": [
    "data @ weights"
   ],
   "outputs": [
    {
     "data": {
      "text/plain": [
       "array([[84.2],\n",
       "       [80.6],\n",
       "       [80.1],\n",
       "       [90. ],\n",
       "       [83.2],\n",
       "       [87.6],\n",
       "       [79.4],\n",
       "       [93.4]])"
      ]
     },
     "execution_count": 750,
     "metadata": {},
     "output_type": "execute_result"
    }
   ],
   "execution_count": 750
  },
  {
   "cell_type": "code",
   "metadata": {
    "ExecuteTime": {
     "end_time": "2024-10-15T16:29:17.452256Z",
     "start_time": "2024-10-15T16:29:17.447229Z"
    }
   },
   "source": [
    "data # (8, 2)"
   ],
   "outputs": [
    {
     "data": {
      "text/plain": [
       "array([[80, 86],\n",
       "       [82, 80],\n",
       "       [85, 78],\n",
       "       [90, 90],\n",
       "       [86, 82],\n",
       "       [82, 90],\n",
       "       [78, 80],\n",
       "       [92, 94]])"
      ]
     },
     "execution_count": 751,
     "metadata": {},
     "output_type": "execute_result"
    }
   ],
   "execution_count": 751
  },
  {
   "cell_type": "code",
   "metadata": {
    "ExecuteTime": {
     "end_time": "2024-10-15T16:29:17.652134Z",
     "start_time": "2024-10-15T16:29:17.647326Z"
    }
   },
   "source": "weights #(2, 1)",
   "outputs": [
    {
     "data": {
      "text/plain": [
       "array([[0.3],\n",
       "       [0.7]])"
      ]
     },
     "execution_count": 752,
     "metadata": {},
     "output_type": "execute_result"
    }
   ],
   "execution_count": 752
  },
  {
   "cell_type": "code",
   "metadata": {
    "ExecuteTime": {
     "end_time": "2024-10-15T16:29:17.867207Z",
     "start_time": "2024-10-15T16:29:17.864153Z"
    }
   },
   "source": [
    "# data * weights 不满足广播机制，不能进行运算"
   ],
   "outputs": [],
   "execution_count": 753
  },
  {
   "cell_type": "markdown",
   "metadata": {},
   "source": [
    "### 3.6.1 合并"
   ]
  },
  {
   "cell_type": "code",
   "metadata": {
    "ExecuteTime": {
     "end_time": "2024-10-15T16:29:18.000120Z",
     "start_time": "2024-10-15T16:29:17.997054Z"
    }
   },
   "source": [
    "a = stock_change[:2, 0:4]\n",
    "b = stock_change[4:6, 0:4]"
   ],
   "outputs": [],
   "execution_count": 754
  },
  {
   "cell_type": "code",
   "metadata": {
    "ExecuteTime": {
     "end_time": "2024-10-15T16:29:18.153836Z",
     "start_time": "2024-10-15T16:29:18.148633Z"
    }
   },
   "source": [
    "a"
   ],
   "outputs": [
    {
     "data": {
      "text/plain": [
       "array([[-1.0528857 , -0.70889868,  0.19779253,  0.21274783],\n",
       "       [-0.06844282, -1.81958302,  1.1       ,  0.43334044]])"
      ]
     },
     "execution_count": 755,
     "metadata": {},
     "output_type": "execute_result"
    }
   ],
   "execution_count": 755
  },
  {
   "cell_type": "code",
   "metadata": {
    "ExecuteTime": {
     "end_time": "2024-10-15T16:29:18.217332Z",
     "start_time": "2024-10-15T16:29:18.213629Z"
    }
   },
   "source": [
    "a.shape"
   ],
   "outputs": [
    {
     "data": {
      "text/plain": [
       "(2, 4)"
      ]
     },
     "execution_count": 756,
     "metadata": {},
     "output_type": "execute_result"
    }
   ],
   "execution_count": 756
  },
  {
   "cell_type": "code",
   "metadata": {
    "ExecuteTime": {
     "end_time": "2024-10-15T16:29:18.392529Z",
     "start_time": "2024-10-15T16:29:18.387561Z"
    }
   },
   "source": [
    "a.reshape((-1, 2))"
   ],
   "outputs": [
    {
     "data": {
      "text/plain": [
       "array([[-1.0528857 , -0.70889868],\n",
       "       [ 0.19779253,  0.21274783],\n",
       "       [-0.06844282, -1.81958302],\n",
       "       [ 1.1       ,  0.43334044]])"
      ]
     },
     "execution_count": 757,
     "metadata": {},
     "output_type": "execute_result"
    }
   ],
   "execution_count": 757
  },
  {
   "cell_type": "code",
   "metadata": {
    "ExecuteTime": {
     "end_time": "2024-10-15T16:29:18.605422Z",
     "start_time": "2024-10-15T16:29:18.600964Z"
    }
   },
   "source": [
    "b"
   ],
   "outputs": [
    {
     "data": {
      "text/plain": [
       "array([[-0.26485254, -0.95623437,  1.1       ,  1.1       ],\n",
       "       [-0.65563338,  0.38335212, -0.09583005,  1.1       ]])"
      ]
     },
     "execution_count": 758,
     "metadata": {},
     "output_type": "execute_result"
    }
   ],
   "execution_count": 758
  },
  {
   "cell_type": "code",
   "metadata": {
    "ExecuteTime": {
     "end_time": "2024-10-15T16:29:18.735544Z",
     "start_time": "2024-10-15T16:29:18.731064Z"
    }
   },
   "source": [
    "np.hstack((a, b))"
   ],
   "outputs": [
    {
     "data": {
      "text/plain": [
       "array([[-1.0528857 , -0.70889868,  0.19779253,  0.21274783, -0.26485254,\n",
       "        -0.95623437,  1.1       ,  1.1       ],\n",
       "       [-0.06844282, -1.81958302,  1.1       ,  0.43334044, -0.65563338,\n",
       "         0.38335212, -0.09583005,  1.1       ]])"
      ]
     },
     "execution_count": 759,
     "metadata": {},
     "output_type": "execute_result"
    }
   ],
   "execution_count": 759
  },
  {
   "cell_type": "code",
   "metadata": {
    "ExecuteTime": {
     "end_time": "2024-10-15T16:29:18.966970Z",
     "start_time": "2024-10-15T16:29:18.962102Z"
    }
   },
   "source": [
    "np.concatenate((a, b), axis=1)"
   ],
   "outputs": [
    {
     "data": {
      "text/plain": [
       "array([[-1.0528857 , -0.70889868,  0.19779253,  0.21274783, -0.26485254,\n",
       "        -0.95623437,  1.1       ,  1.1       ],\n",
       "       [-0.06844282, -1.81958302,  1.1       ,  0.43334044, -0.65563338,\n",
       "         0.38335212, -0.09583005,  1.1       ]])"
      ]
     },
     "execution_count": 760,
     "metadata": {},
     "output_type": "execute_result"
    }
   ],
   "execution_count": 760
  },
  {
   "cell_type": "code",
   "metadata": {
    "ExecuteTime": {
     "end_time": "2024-10-15T16:29:19.167698Z",
     "start_time": "2024-10-15T16:29:19.163149Z"
    }
   },
   "source": [
    "np.vstack((a, b))"
   ],
   "outputs": [
    {
     "data": {
      "text/plain": [
       "array([[-1.0528857 , -0.70889868,  0.19779253,  0.21274783],\n",
       "       [-0.06844282, -1.81958302,  1.1       ,  0.43334044],\n",
       "       [-0.26485254, -0.95623437,  1.1       ,  1.1       ],\n",
       "       [-0.65563338,  0.38335212, -0.09583005,  1.1       ]])"
      ]
     },
     "execution_count": 761,
     "metadata": {},
     "output_type": "execute_result"
    }
   ],
   "execution_count": 761
  },
  {
   "cell_type": "code",
   "metadata": {
    "ExecuteTime": {
     "end_time": "2024-10-15T16:29:19.429118Z",
     "start_time": "2024-10-15T16:29:19.424120Z"
    }
   },
   "source": [
    "np.concatenate((a, b), axis=0)"
   ],
   "outputs": [
    {
     "data": {
      "text/plain": [
       "array([[-1.0528857 , -0.70889868,  0.19779253,  0.21274783],\n",
       "       [-0.06844282, -1.81958302,  1.1       ,  0.43334044],\n",
       "       [-0.26485254, -0.95623437,  1.1       ,  1.1       ],\n",
       "       [-0.65563338,  0.38335212, -0.09583005,  1.1       ]])"
      ]
     },
     "execution_count": 762,
     "metadata": {},
     "output_type": "execute_result"
    }
   ],
   "execution_count": 762
  },
  {
   "cell_type": "markdown",
   "metadata": {},
   "source": [
    "### 3.7.1 Numpy读取"
   ]
  },
  {
   "cell_type": "code",
   "metadata": {
    "ExecuteTime": {
     "end_time": "2024-10-15T16:29:19.645012Z",
     "start_time": "2024-10-15T16:29:19.639593Z"
    }
   },
   "source": [
    "data = np.genfromtxt(\"test.csv\", delimiter=\",\")"
   ],
   "outputs": [],
   "execution_count": 763
  },
  {
   "cell_type": "code",
   "metadata": {
    "ExecuteTime": {
     "end_time": "2024-10-15T16:29:19.878909Z",
     "start_time": "2024-10-15T16:29:19.873295Z"
    }
   },
   "source": [
    "data"
   ],
   "outputs": [
    {
     "data": {
      "text/plain": [
       "array([[  nan,   nan,   nan,   nan],\n",
       "       [  1. , 123. ,   1.4,  23. ],\n",
       "       [  2. , 110. ,   nan,  18. ],\n",
       "       [  3. ,   nan,   2.1,  19. ]])"
      ]
     },
     "execution_count": 764,
     "metadata": {},
     "output_type": "execute_result"
    }
   ],
   "execution_count": 764
  },
  {
   "cell_type": "code",
   "metadata": {
    "ExecuteTime": {
     "end_time": "2024-10-15T16:29:20.017303Z",
     "start_time": "2024-10-15T16:29:20.013194Z"
    }
   },
   "source": [
    "type(data[2, 2])"
   ],
   "outputs": [
    {
     "data": {
      "text/plain": [
       "numpy.float64"
      ]
     },
     "execution_count": 765,
     "metadata": {},
     "output_type": "execute_result"
    }
   ],
   "execution_count": 765
  },
  {
   "cell_type": "code",
   "metadata": {
    "ExecuteTime": {
     "end_time": "2024-10-15T16:29:20.195807Z",
     "start_time": "2024-10-15T16:29:20.191628Z"
    }
   },
   "source": [
    "def fill_nan_by_column_mean(t):\n",
    "    for i in range(t.shape[1]):\n",
    "        # 计算nan的个数\n",
    "        nan_num = np.count_nonzero(t[:, i][t[:, i] != t[:, i]])\n",
    "        if nan_num > 0:\n",
    "            now_col = t[:, i]\n",
    "            # 求和\n",
    "            now_col_not_nan = now_col[np.isnan(now_col) == False].sum()\n",
    "            # 和/个数\n",
    "            now_col_mean = now_col_not_nan / (t.shape[0] - nan_num)\n",
    "            # 赋值给now_col\n",
    "            now_col[np.isnan(now_col)] = now_col_mean\n",
    "            # 赋值给t，即更新t的当前列\n",
    "            t[:, i] = now_col\n",
    "    return t"
   ],
   "outputs": [],
   "execution_count": 766
  },
  {
   "cell_type": "code",
   "metadata": {
    "ExecuteTime": {
     "end_time": "2024-10-15T16:29:20.296052Z",
     "start_time": "2024-10-15T16:29:20.291612Z"
    }
   },
   "source": [
    "data"
   ],
   "outputs": [
    {
     "data": {
      "text/plain": [
       "array([[  nan,   nan,   nan,   nan],\n",
       "       [  1. , 123. ,   1.4,  23. ],\n",
       "       [  2. , 110. ,   nan,  18. ],\n",
       "       [  3. ,   nan,   2.1,  19. ]])"
      ]
     },
     "execution_count": 767,
     "metadata": {},
     "output_type": "execute_result"
    }
   ],
   "execution_count": 767
  },
  {
   "cell_type": "code",
   "metadata": {
    "ExecuteTime": {
     "end_time": "2024-10-15T16:29:20.388010Z",
     "start_time": "2024-10-15T16:29:20.383460Z"
    }
   },
   "source": [
    "fill_nan_by_column_mean(data)"
   ],
   "outputs": [
    {
     "data": {
      "text/plain": [
       "array([[  2.  , 116.5 ,   1.75,  20.  ],\n",
       "       [  1.  , 123.  ,   1.4 ,  23.  ],\n",
       "       [  2.  , 110.  ,   1.75,  18.  ],\n",
       "       [  3.  , 116.5 ,   2.1 ,  19.  ]])"
      ]
     },
     "execution_count": 768,
     "metadata": {},
     "output_type": "execute_result"
    }
   ],
   "execution_count": 768
  },
  {
   "cell_type": "code",
   "metadata": {
    "ExecuteTime": {
     "end_time": "2024-10-15T16:29:20.483630Z",
     "start_time": "2024-10-15T16:29:20.481404Z"
    }
   },
   "source": [],
   "outputs": [],
   "execution_count": null
  }
 ],
 "metadata": {
  "kernelspec": {
   "display_name": "Python 3",
   "language": "python",
   "name": "python3"
  },
  "language_info": {
   "codemirror_mode": {
    "name": "ipython",
    "version": 3
   },
   "file_extension": ".py",
   "mimetype": "text/x-python",
   "name": "python",
   "nbconvert_exporter": "python",
   "pygments_lexer": "ipython3",
   "version": "3.6.3"
  }
 },
 "nbformat": 4,
 "nbformat_minor": 2
}
